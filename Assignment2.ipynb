{
  "nbformat": 4,
  "nbformat_minor": 0,
  "metadata": {
    "colab": {
      "name": "Assignment2",
      "provenance": [],
      "collapsed_sections": [],
      "authorship_tag": "ABX9TyOrvGW+uYshBquPxtym1z6Q",
      "include_colab_link": true
    },
    "kernelspec": {
      "name": "python3",
      "display_name": "Python 3"
    },
    "language_info": {
      "name": "python"
    }
  },
  "cells": [
    {
      "cell_type": "markdown",
      "metadata": {
        "id": "view-in-github",
        "colab_type": "text"
      },
      "source": [
        "<a href=\"https://colab.research.google.com/github/cagri32/EECS4414-Link-Analysis-Prediction-Community-Detection/blob/main/Assignment2.ipynb\" target=\"_parent\"><img src=\"https://colab.research.google.com/assets/colab-badge.svg\" alt=\"Open In Colab\"/></a>"
      ]
    },
    {
      "cell_type": "code",
      "metadata": {
        "colab": {
          "base_uri": "https://localhost:8080/"
        },
        "id": "YVVQ4ImwUWkK",
        "outputId": "8e71247e-25c6-4023-f3ad-39a85f09b655"
      },
      "source": [
        "!pip install wget #Wget 3.2\n",
        "\n",
        "dataset_URL = \"http://projects.csail.mit.edu/dnd/DBLP/dblp_coauthorship.json.gz\" #@param {type:\"string\"}\n",
        "#Downloads the dataset (compressed in a GZ format)\n",
        "#!wget dataset_URL -O dataset.tsv.gz\n",
        "\n"
      ],
      "execution_count": 3,
      "outputs": [
        {
          "output_type": "stream",
          "name": "stdout",
          "text": [
            "Requirement already satisfied: wget in /usr/local/lib/python3.7/dist-packages (3.2)\n"
          ]
        }
      ]
    },
    {
      "cell_type": "code",
      "metadata": {
        "id": "nTyfw9QfYGJY"
      },
      "source": [
        "import gzip\n",
        "import shutil\n",
        "import os\n",
        "import wget\n",
        "import csv\n",
        "import linecache\n",
        "from shutil import copyfile\n",
        "import ipywidgets as widgets\n",
        "import numpy as np\n",
        "import pandas as pd\n",
        "wget.download(dataset_URL, out='dblp_coauthorship.json.gz')\n",
        "\n",
        "with gzip.open('dblp_coauthorship.json.gz', 'rb') as f_in:\n",
        "    with open('dblp_coauthorship.json', 'wb') as f_out:\n",
        "        shutil.copyfileobj(f_in, f_out)\n",
        "\n",
        "#Deletes the compressed GZ file\n",
        "os.unlink(\"dblp_coauthorship.json.gz\")"
      ],
      "execution_count": 4,
      "outputs": []
    },
    {
      "cell_type": "markdown",
      "metadata": {
        "id": "r3BLI2uHUbqZ"
      },
      "source": [
        "EECS4414/5414 Fall 2021 <br><br>\n",
        "Information Networks<br><br>\n",
        "Assignment 2 (20%): Link Analysis & Prediction; Community Detection<br><br>\n",
        "Posted: Mon, Oct 25, 2021; Due: 11:59 pm on Mon, Nov 15, 2021<br><br>\n",
        "Objective <br><br>\n",
        "In this assignment, you will be writing programs for generating temporal snapshots of a network and performing basic\n",
        "link analysis of the network. <br><br>Then, you will work on methods for link prediction in these networks. Furthermore, you will\n",
        "experiment with community detection methods. You will also prepare a technical document where you briefly report\n",
        "about the data, methods, measurements, experiments, and results of the assignment.<br><br>\n",
        "Important Notes:\n",
        "• If you are working in a pair, only one of you should submit. The first page of your report should clearly include<br><br>\n",
        "information of all team members (first name, last name, login, student#, email).<br><br>\n",
        "• You can write code of your own or use available graph libraries (NetworkX, SNAP, JUNG, etc.).<br><br>\n",
        "• Your report should be no more than 5 pages. To get full marks, your code must be well-documented, and the\n",
        "report should be well organized, using proper technical language and suitable style (sections, figures, tables).<br><br>\n",
        "Formatting and Style<br>\n",
        "All reports should be formatted according to the ACM SIG conference proceedings template in LaTex and prepared using\n",
        "Overleaf, a free collaborative authoring tool. <br>The template can be accessed here:\n",
        "https://www.overleaf.com/latex/templates/association-for-computing-machinery-acm-sigproceedingstemplate/bmvfhcdnxfty<br><br>\n",
        "Electronic Submission Instructions<br><br>\n",
        "You should submit your work electronically using the submit command in PRISM lab computers. For this assignment,\n",
        "you will submit two files:<br><br>\n",
        "• your code (a2-code.zip), and<br>\n",
        "• your report (a2-report.pdf)<br><br>\n",
        "When you have completed the assignment, move these two files in a directory (e.g., assignment1/), and use the\n",
        "following command within that directory to electronically submit your files:<br><br>\n",
        "% submit 4414 a2 a2-code.zip a2-report.pdf<br><br>\n",
        "You may submit your files as many times as you wish prior to the submission deadline. Make sure you name your files\n",
        "exactly as stated (including lower/upper case letters). You may check the status of your submission using the command:<br><br>\n",
        "% submit -l 4414 a2<br><br>\n",
        "• Make sure you have submitted the correct version; new or missing files will not be accepted after the due date.<br><br>\n",
        "A. Temporal Graphs (20%)<br><br>\n",
        "Consider the dataset “dblp_coauthorship.json.gz” available at the following website:\n",
        "http://projects.csail.mit.edu/dnd/DBLP/<br><br>\n",
        "This dataset represents a DBLP co-authorship graph consisting of (author1, author2, year) triples. "
      ]
    },
    {
      "cell_type": "code",
      "metadata": {
        "id": "ZKbM7L38d-8f"
      },
      "source": [
        "import json\n",
        "#open json file and put it in dblp_dict\n",
        "with open('dblp_coauthorship.json', 'r') as f:\n",
        "  dblp_dict = json.load(f)"
      ],
      "execution_count": 5,
      "outputs": []
    },
    {
      "cell_type": "markdown",
      "metadata": {
        "id": "Pd50n0cVeEdZ"
      },
      "source": [
        "Based on this\n",
        "dataset, create the following graphs:<br><br>\n",
        "(a) dblp2005: An undirected unweighted graph that represents the DBLP co-authorships of the year 2005. Each\n",
        "node represents an author and each edge represents that two authors co-authored at least one paper in 2005.<br><br>\n"
      ]
    },
    {
      "cell_type": "code",
      "metadata": {
        "colab": {
          "base_uri": "https://localhost:8080/"
        },
        "id": "ILedokuMVkNl",
        "outputId": "0ee0c97d-e49b-4d9a-c3b0-7512fc4ba0db"
      },
      "source": [
        "#importing the networkx library\n",
        "import networkx as nx\n",
        "import json\n",
        "\n",
        "# undirected unweighted\n",
        "dblp2005 = nx.Graph()\n",
        "for author in dblp_dict:\n",
        "  if 2005 in author:\n",
        "    dblp2005.add_edge(author[0],author[1])\n",
        "\n",
        "print(\"Total number of nodes in the whole graph:\")\n",
        "print(dblp2005.number_of_nodes())\n",
        "\n",
        "print(\"Total number of edges in the whole graph:\")\n",
        "print(dblp2005.number_of_edges())\n",
        "\n",
        "\n",
        "Gcc = sorted(nx.connected_components(dblp2005), key=len, reverse=True)\n",
        "Gccdblp2005 = dblp2005.subgraph(Gcc[0])\n",
        "\n",
        "print(\"Total number of nodes in the Giant Connected Component:\")\n",
        "print(Gccdblp2005.number_of_nodes())\n",
        "\n",
        "print(\"Total number of edges in the whole graph:\")\n",
        "print(Gccdblp2005.number_of_edges())\n"
      ],
      "execution_count": 6,
      "outputs": [
        {
          "output_type": "stream",
          "name": "stdout",
          "text": [
            "Total number of nodes in the whole graph:\n",
            "180227\n",
            "Total number of edges in the whole graph:\n",
            "403026\n",
            "Total number of nodes in the Giant Connected Component:\n",
            "106943\n",
            "Total number of edges in the whole graph:\n",
            "300043\n"
          ]
        }
      ]
    },
    {
      "cell_type": "markdown",
      "metadata": {
        "id": "NwozTPFAdyya"
      },
      "source": [
        "\n",
        "```\n",
        "Total number of nodes in the whole graph:\n",
        "180227\n",
        "Total number of edges in the whole graph:\n",
        "403026\n",
        "Total number of nodes in the Giant Connected Component:\n",
        "106943\n",
        "Total number of edges in the whole graph:\n",
        "300043\n",
        "\n",
        "```"
      ]
    },
    {
      "cell_type": "markdown",
      "metadata": {
        "id": "LGiL2uD2Vs0E"
      },
      "source": [
        "\n",
        "(b) dblp2006: An undirected unweighted graph that represents the DBLP co-authorships of the year 2006. Each\n",
        "node represents an author and each edge represents that two authors co-authored at least one paper in 2006.<br><br>\n"
      ]
    },
    {
      "cell_type": "code",
      "metadata": {
        "colab": {
          "base_uri": "https://localhost:8080/"
        },
        "id": "BA0VSP6oVvyG",
        "outputId": "b8a293a4-41bd-4077-9bec-9a55128f9ca2"
      },
      "source": [
        "#importing the networkx library\n",
        "import networkx as nx\n",
        "import json\n",
        "\n",
        "# undirected unweighted\n",
        "dblp2006 = nx.Graph()\n",
        "for author in dblp_dict:\n",
        "  if 2006 in author:\n",
        "    dblp2006.add_edge(author[0],author[1])\n",
        "\n",
        "print(\"Total number of nodes in the whole graph:\")\n",
        "print(dblp2006.number_of_nodes())\n",
        "\n",
        "print(\"Total number of edges in the whole graph:\")\n",
        "print(dblp2006.number_of_edges())\n",
        "\n",
        "\n",
        "Gcc = sorted(nx.connected_components(dblp2006), key=len, reverse=True)\n",
        "Gccdblp2006 = dblp2006.subgraph(Gcc[0])\n",
        "\n",
        "print(\"Total number of nodes in the Giant Connected Component:\")\n",
        "print(Gccdblp2006.number_of_nodes())\n",
        "\n",
        "print(\"Total number of edges in the whole graph:\")\n",
        "print(Gccdblp2006.number_of_edges())\n"
      ],
      "execution_count": 7,
      "outputs": [
        {
          "output_type": "stream",
          "name": "stdout",
          "text": [
            "Total number of nodes in the whole graph:\n",
            "201298\n",
            "Total number of edges in the whole graph:\n",
            "465988\n",
            "Total number of nodes in the Giant Connected Component:\n",
            "123808\n",
            "Total number of edges in the whole graph:\n",
            "356968\n"
          ]
        }
      ]
    },
    {
      "cell_type": "markdown",
      "metadata": {
        "id": "dsHLKBPkoJQY"
      },
      "source": [
        "```\n",
        "Total number of nodes in the whole graph:\n",
        "201298\n",
        "Total number of edges in the whole graph:\n",
        "465988\n",
        "Total number of nodes in the Giant Connected Component:\n",
        "123808\n",
        "Total number of edges in the whole graph:\n",
        "356968\n",
        "```"
      ]
    },
    {
      "cell_type": "markdown",
      "metadata": {
        "id": "l43OxbrTVwK3"
      },
      "source": [
        "(c) dblp2005w: An weighted version of the dblp2005 graph, where the weight represents the number of\n",
        "papers that two authors co-authored in 2005.\n",
        "For all graphs above, you need to obtain and work only on the giant connected component. <br><br>Report the number of nodes\n",
        "and edges the graphs (#nodes, #edges).<br><br>\n"
      ]
    },
    {
      "cell_type": "code",
      "metadata": {
        "colab": {
          "base_uri": "https://localhost:8080/"
        },
        "id": "vvGne51HVwqH",
        "outputId": "e97f8237-4d1c-4e28-dc2a-582d2dc3d92e"
      },
      "source": [
        "#importing the networkx library\n",
        "import networkx as nx\n",
        "import json\n",
        "\n",
        "# directed weighted\n",
        "dblp2005w = nx.DiGraph()\n",
        "for author in dblp_dict:\n",
        "  if dblp2005w.has_edge(author[0], author[1]):\n",
        "    # we added this one before, just increase the weight by one\n",
        "    dblp2005w[author[0]][author[1]]['weight'] += 1\n",
        "  elif 2005 in author:\n",
        "    dblp2005w.add_edge(author[0],author[1], weight=1)\n",
        "\n",
        "\n",
        "print(\"Total number of nodes in the whole graph:\")\n",
        "print(dblp2005w.number_of_nodes())\n",
        "\n",
        "print(\"Total number of edges in the whole graph:\")\n",
        "print(dblp2005w.number_of_edges())\n",
        "\n",
        "Gcc = sorted(nx.strongly_connected_components(dblp2005w), key=len, reverse=True)\n",
        "Gccdblp2005w = dblp2005w.subgraph(Gcc[0])\n",
        "\n",
        "print(\"Total number of nodes in the Giant Connected Component:\")\n",
        "print(Gccdblp2005w.number_of_nodes())\n",
        "\n",
        "print(\"Total number of edges in the whole graph:\")\n",
        "print(Gccdblp2005w.number_of_edges())"
      ],
      "execution_count": 8,
      "outputs": [
        {
          "output_type": "stream",
          "name": "stdout",
          "text": [
            "Total number of nodes in the whole graph:\n",
            "180227\n",
            "Total number of edges in the whole graph:\n",
            "422088\n",
            "Total number of nodes in the Giant Connected Component:\n",
            "19626\n",
            "Total number of edges in the whole graph:\n",
            "82564\n"
          ]
        }
      ]
    },
    {
      "cell_type": "markdown",
      "metadata": {
        "id": "eiNyXPPus9BV"
      },
      "source": [
        "```\n",
        "Total number of nodes in the whole graph:\n",
        "180227\n",
        "Total number of edges in the whole graph:\n",
        "422088\n",
        "Total number of nodes in the Giant Connected Component:\n",
        "19626\n",
        "Total number of edges in the whole graph:\n",
        "82564\n",
        "```\n",
        "\n"
      ]
    },
    {
      "cell_type": "markdown",
      "metadata": {
        "id": "nm_AnbpZV4N7"
      },
      "source": [
        "B. Node and Edge Importance in Graphs (30%)<br><br>\n",
        "For each of the graphs above (dblp2005, dblp2006, dblp2005w) report:<br><br>\n",
        "i. the names and scores of the 50 most important authors based on PageRank scores"
      ]
    },
    {
      "cell_type": "code",
      "metadata": {
        "id": "o4Nn2_MAotXl"
      },
      "source": [
        "# Calculate PageRanks of each graph\n",
        "prdblp2005=nx.pagerank(Gccdblp2005)\n",
        "prdblp2006=nx.pagerank(Gccdblp2006)\n",
        "prdblp2005w=nx.pagerank(Gccdblp2005w)"
      ],
      "execution_count": 9,
      "outputs": []
    },
    {
      "cell_type": "code",
      "metadata": {
        "id": "RjA4bE0Rlpt3"
      },
      "source": [
        "# Sort each graph by score\n",
        "import operator\n",
        "sortedprdblp2005 = dict(sorted(prdblp2005.items(), key=operator.itemgetter(1),reverse=True))\n",
        "sortedprdblp2006 = dict(sorted(prdblp2006.items(), key=operator.itemgetter(1),reverse=True))\n",
        "sortedprdblp2005w = dict(sorted(prdblp2005w.items(), key=operator.itemgetter(1),reverse=True))\n"
      ],
      "execution_count": 10,
      "outputs": []
    },
    {
      "cell_type": "code",
      "metadata": {
        "colab": {
          "base_uri": "https://localhost:8080/"
        },
        "id": "H1D5Y29iWBql",
        "outputId": "14dcf193-d601-4385-bce6-c64c29dfb296"
      },
      "source": [
        "# Print top 50 in all graphs\n",
        "from IPython.display import clear_output\n",
        "import networkx as nx\n",
        "print(\"PageRank of Gcc of dblp2005 \\n\")\n",
        "i = 0\n",
        "for k in sortedprdblp2005:\n",
        "    print(\"%s: %s\" % (k,str(sortedprdblp2005[k])))\n",
        "    i += 1\n",
        "    if i >49: break\n",
        "print()\n",
        "\n",
        "print(\"PageRank of Gcc of dblp2006 \\n\")\n",
        "\n",
        "i = 0\n",
        "for k in sortedprdblp2006:\n",
        "    print(\"%s: %s\" % (k,str(sortedprdblp2006[k])))\n",
        "    i += 1\n",
        "    if i >49: break\n",
        "print()\n",
        "\n",
        "print(\"PageRank of Gcc of dblp2005w \\n\")\n",
        "i = 0\n",
        "for k in sortedprdblp2005w:\n",
        "    print(\"%s: %s\" % (k,str(sortedprdblp2005w[k])))\n",
        "    i += 1\n",
        "    if i >49: break\n",
        "\n",
        "# clear_output()"
      ],
      "execution_count": 11,
      "outputs": [
        {
          "output_type": "stream",
          "name": "stdout",
          "text": [
            "PageRank of Gcc of dblp2005 \n",
            "\n",
            "Wen Gao: 0.00014193103224585356\n",
            "Xin Li: 0.00013306687252334008\n",
            "Wei Zhang: 0.00011837095700002181\n",
            "Chin-Chen Chang: 0.00011228187096190705\n",
            "Wei Wang: 0.00010495905373283147\n",
            "Guanrong Chen: 0.00010241545494191463\n",
            "Zhaohui Wu: 9.972482112399876e-05\n",
            "Wei-Ying Ma: 9.740727215568838e-05\n",
            "Bin Wang: 9.726301353073485e-05\n",
            "Samuel Pierre: 9.705863952617078e-05\n",
            "Hans-Peter Seidel: 9.630692366059367e-05\n",
            "Francky Catthoor: 9.509687755131545e-05\n",
            "Yong Zhang: 9.50277950245624e-05\n",
            "Fang Liu: 9.291312733184171e-05\n",
            "Witold Pedrycz: 9.159654224986458e-05\n",
            "Wei Liu: 9.088044455802498e-05\n",
            "Alberto L. Sangiovanni-Vincentelli: 9.062998434173113e-05\n",
            "Licheng Jiao: 9.054039000281961e-05\n",
            "Yan Zhang: 8.964011202963375e-05\n",
            "Xiang Li: 8.924949886585828e-05\n",
            "Mario Piattini: 8.770301687049537e-05\n",
            "Yvon Savaria: 8.759316637739885e-05\n",
            "Yan Li: 8.757045759012323e-05\n",
            "David J. Evans: 8.646019165514891e-05\n",
            "Wei Zhao: 8.631862736191037e-05\n",
            "Lei Li: 8.521097914198229e-05\n",
            "Minglu Li: 8.385477457657978e-05\n",
            "Jing Li: 8.364797920281223e-05\n",
            "Qing Li: 8.346925817780213e-05\n",
            "Xianlong Hong: 8.280253482108301e-05\n",
            "Jun Li: 8.255650675543823e-05\n",
            "Mario Gerla: 8.151790992165256e-05\n",
            "Yu Chen: 8.098964142814072e-05\n",
            "Yang Xu: 8.094342574702081e-05\n",
            "Tharam S. Dillon: 8.027406115457518e-05\n",
            "Jiannong Cao: 7.996882944317615e-05\n",
            "Elisa Bertino: 7.975921070453301e-05\n",
            "Yan Wang: 7.953052894162079e-05\n",
            "Philip S. Yu: 7.904077202276819e-05\n",
            "Azzedine Boukerche: 7.863772796602966e-05\n",
            "Hong Zhang: 7.854095286461263e-05\n",
            "Ajith Abraham: 7.845321957796965e-05\n",
            "Mani B. Srivastava: 7.835090136234619e-05\n",
            "Ying Liu: 7.826418075094077e-05\n",
            "Luc J. Van Gool: 7.797561722585579e-05\n",
            "Ying Chen: 7.787685123048913e-05\n",
            "Tao Zhang: 7.721288842944207e-05\n",
            "Donald F. Towsley: 7.712843687402159e-05\n",
            "Jun Liu: 7.6719178011473e-05\n",
            "C. C. Jay Kuo: 7.625128869758412e-05\n",
            "\n",
            "PageRank of Gcc of dblp2006 \n",
            "\n",
            "Wen Gao: 0.00012401313071639335\n",
            "Hui Li: 0.0001233032307858267\n",
            "Chin-Chen Chang: 0.00012155789113614975\n",
            "Xin Li: 0.00011816042342745635\n",
            "Yong Zhang: 0.0001143310055167495\n",
            "Wei Wang: 0.00011418939306766574\n",
            "Qing Li: 0.00011370789902479065\n",
            "Yan Zhang: 0.00010717607486426268\n",
            "Wei Liu: 0.00010715265989243882\n",
            "Wei Zhang: 0.00010684051247426166\n",
            "Li Zhang: 9.897328971913332e-05\n",
            "Yu Zhang: 9.855469285395946e-05\n",
            "Ying Li: 9.544758462291251e-05\n",
            "Jing Li: 9.488459658482034e-05\n",
            "Xiaodong Wang: 9.468680055242116e-05\n",
            "Yan Li: 9.368813789090798e-05\n",
            "Wei Li: 9.25435292228735e-05\n",
            "Ying Liu: 8.948725663577388e-05\n",
            "Yong Yu: 8.929031168044778e-05\n",
            "Francky Catthoor: 8.892675086632884e-05\n",
            "Jian Li: 8.725189260558142e-05\n",
            "Wei-Ying Ma: 8.717464224186695e-05\n",
            "Hai Jin: 8.666108402959187e-05\n",
            "Jian Wang: 8.523852018029669e-05\n",
            "Laurence Tianruo Yang: 8.413681197740778e-05\n",
            "Samuel Pierre: 8.387883584041562e-05\n",
            "Lei Li: 8.327246374174169e-05\n",
            "Hao Wang: 8.25999995523751e-05\n",
            "Yang Yang: 8.248247554430839e-05\n",
            "Xin Chen: 8.14946498437183e-05\n",
            "Fang Liu: 8.141584215923699e-05\n",
            "Lei Zhang: 8.12662565357279e-05\n",
            "Masayuki Murata: 8.110350909961694e-05\n",
            "Tao Zhang: 8.043902864329786e-05\n",
            "Gang Wang: 8.018410512901533e-05\n",
            "Hong Zhang: 7.973926909893572e-05\n",
            "Yong Wang: 7.967609034166204e-05\n",
            "Bin Li: 7.808916142631809e-05\n",
            "Wei Zhao: 7.698812599228662e-05\n",
            "Jing Wang: 7.671448876053602e-05\n",
            "Gang Li: 7.656909818744379e-05\n",
            "Tao Li: 7.635290669780315e-05\n",
            "Mario Gerla: 7.552434294885481e-05\n",
            "Liang Zhang: 7.51628592043363e-05\n",
            "Jun Zhang: 7.469378332758833e-05\n",
            "Wei Xu: 7.454573262707767e-05\n",
            "C. C. Jay Kuo: 7.357036275218525e-05\n",
            "Luc J. Van Gool: 7.233009163938588e-05\n",
            "Elisa Bertino: 7.174076615227387e-05\n",
            "Yan Chen: 7.146691397294093e-05\n",
            "\n",
            "PageRank of Gcc of dblp2005w \n",
            "\n",
            "Ion Stoica: 0.0013965820978820021\n",
            "Wen Gao: 0.0013079225770219155\n",
            "Heung-Yeung Shum: 0.001208961059083384\n",
            "Scott Shenker: 0.0011981669487219192\n",
            "HongJiang Zhang: 0.0011960536729460655\n",
            "Wei-Ying Ma: 0.0011686209047503731\n",
            "Mario Gerla: 0.001024135822623459\n",
            "Francky Catthoor: 0.0009685469181208094\n",
            "Donald F. Towsley: 0.0009426858622238064\n",
            "Philip S. Yu: 0.000892080127618628\n",
            "H. Vincent Poor: 0.0008652497729838251\n",
            "Hans-Peter Seidel: 0.0008572204048825235\n",
            "Lenore D. Zuck: 0.0008138587897766071\n",
            "Frank Zeilfelder: 0.0008072937069216599\n",
            "Stanley B. Zdonik: 0.0008070651608118292\n",
            "Aoying Zhou: 0.0008032886902355105\n",
            "Nicholas Ayache: 0.0007867979434479089\n",
            "Shree K. Nayar: 0.0007702327688039062\n",
            "Bo Sun: 0.0007615004351987471\n",
            "Sushil Jajodia: 0.0007578117140081518\n",
            "Guohong Cao: 0.0007514046393176619\n",
            "Vinod Chandran: 0.0007306148121540781\n",
            "Thomas S. Huang: 0.0007215374801039191\n",
            "Cheng-Kok Koh: 0.0007199524829910204\n",
            "Jeong-Hyon Hwang: 0.0007050409076715229\n",
            "Sridha Sridharan: 0.000704744717653606\n",
            "Fei Wu: 0.0006959815556390914\n",
            "David W. Bates: 0.0006860392628389898\n",
            "George Hripcsak: 0.0006717903249155038\n",
            "Tejal K. Gandhi: 0.000667639817279055\n",
            "Jiawei Han: 0.0006628823883339308\n",
            "Hideharu Amano: 0.0006495449297400988\n",
            "Carlos Seara: 0.0006265330031859533\n",
            "Cathy H. Wu: 0.0006260222579987652\n",
            "Alexandru Nicolau: 0.0006111635506503529\n",
            "Thomas F. La Porta: 0.0006105154913000077\n",
            "Changshui Zhang: 0.0006056106842773474\n",
            "Minglu Li: 0.0005906125228221102\n",
            "José E. Moreira: 0.0005828181172368436\n",
            "Jinxiang Dong: 0.0005820846371045805\n",
            "Jack Dongarra: 0.0005700788695111015\n",
            "Mani B. Srivastava: 0.0005659971796386236\n",
            "Jian Wang: 0.0005594445497944486\n",
            "Shouyang Wang: 0.0005548811183016681\n",
            "Wensheng Zhang 0001: 0.0005535763517475442\n",
            "Yueting Zhuang: 0.000550717487248448\n",
            "Ramesh R. Rao: 0.000543830595383386\n",
            "Helge Ritter: 0.0005398931107526786\n",
            "Tak-Wai Chan: 0.0005390400981597171\n",
            "Rolf Apweiler: 0.0005356192608876917\n"
          ]
        }
      ]
    },
    {
      "cell_type": "markdown",
      "metadata": {
        "id": "BPIyJO8HqRRh"
      },
      "source": [
        "```\n",
        "PageRank of Gcc of dblp2005 \n",
        "\n",
        "Wen Gao: 0.00014193103224585356\n",
        "Xin Li: 0.00013306687252334008\n",
        "Wei Zhang: 0.00011837095700002181\n",
        "Chin-Chen Chang: 0.00011228187096190705\n",
        "Wei Wang: 0.00010495905373283147\n",
        "Guanrong Chen: 0.00010241545494191463\n",
        "Zhaohui Wu: 9.972482112399876e-05\n",
        "Wei-Ying Ma: 9.740727215568838e-05\n",
        "Bin Wang: 9.726301353073485e-05\n",
        "Samuel Pierre: 9.705863952617078e-05\n",
        "Hans-Peter Seidel: 9.630692366059367e-05\n",
        "Francky Catthoor: 9.509687755131545e-05\n",
        "Yong Zhang: 9.50277950245624e-05\n",
        "Fang Liu: 9.291312733184171e-05\n",
        "Witold Pedrycz: 9.159654224986458e-05\n",
        "Wei Liu: 9.088044455802498e-05\n",
        "Alberto L. Sangiovanni-Vincentelli: 9.062998434173113e-05\n",
        "Licheng Jiao: 9.054039000281961e-05\n",
        "Yan Zhang: 8.964011202963375e-05\n",
        "Xiang Li: 8.924949886585828e-05\n",
        "Mario Piattini: 8.770301687049537e-05\n",
        "Yvon Savaria: 8.759316637739885e-05\n",
        "Yan Li: 8.757045759012323e-05\n",
        "David J. Evans: 8.646019165514891e-05\n",
        "Wei Zhao: 8.631862736191037e-05\n",
        "Lei Li: 8.521097914198229e-05\n",
        "Minglu Li: 8.385477457657978e-05\n",
        "Jing Li: 8.364797920281223e-05\n",
        "Qing Li: 8.346925817780213e-05\n",
        "Xianlong Hong: 8.280253482108301e-05\n",
        "Jun Li: 8.255650675543823e-05\n",
        "Mario Gerla: 8.151790992165256e-05\n",
        "Yu Chen: 8.098964142814072e-05\n",
        "Yang Xu: 8.094342574702081e-05\n",
        "Tharam S. Dillon: 8.027406115457518e-05\n",
        "Jiannong Cao: 7.996882944317615e-05\n",
        "Elisa Bertino: 7.975921070453301e-05\n",
        "Yan Wang: 7.953052894162079e-05\n",
        "Philip S. Yu: 7.904077202276819e-05\n",
        "Azzedine Boukerche: 7.863772796602966e-05\n",
        "Hong Zhang: 7.854095286461263e-05\n",
        "Ajith Abraham: 7.845321957796965e-05\n",
        "Mani B. Srivastava: 7.835090136234619e-05\n",
        "Ying Liu: 7.826418075094077e-05\n",
        "Luc J. Van Gool: 7.797561722585579e-05\n",
        "Ying Chen: 7.787685123048913e-05\n",
        "Tao Zhang: 7.721288842944207e-05\n",
        "Donald F. Towsley: 7.712843687402159e-05\n",
        "Jun Liu: 7.6719178011473e-05\n",
        "C. C. Jay Kuo: 7.625128869758412e-05\n",
        "\n",
        "PageRank of Gcc of dblp2006 \n",
        "\n",
        "Wen Gao: 0.00012401313071639335\n",
        "Hui Li: 0.0001233032307858267\n",
        "Chin-Chen Chang: 0.00012155789113614975\n",
        "Xin Li: 0.00011816042342745635\n",
        "Yong Zhang: 0.0001143310055167495\n",
        "Wei Wang: 0.00011418939306766574\n",
        "Qing Li: 0.00011370789902479065\n",
        "Yan Zhang: 0.00010717607486426268\n",
        "Wei Liu: 0.00010715265989243882\n",
        "Wei Zhang: 0.00010684051247426166\n",
        "Li Zhang: 9.897328971913332e-05\n",
        "Yu Zhang: 9.855469285395946e-05\n",
        "Ying Li: 9.544758462291251e-05\n",
        "Jing Li: 9.488459658482034e-05\n",
        "Xiaodong Wang: 9.468680055242116e-05\n",
        "Yan Li: 9.368813789090798e-05\n",
        "Wei Li: 9.25435292228735e-05\n",
        "Ying Liu: 8.948725663577388e-05\n",
        "Yong Yu: 8.929031168044778e-05\n",
        "Francky Catthoor: 8.892675086632884e-05\n",
        "Jian Li: 8.725189260558142e-05\n",
        "Wei-Ying Ma: 8.717464224186695e-05\n",
        "Hai Jin: 8.666108402959187e-05\n",
        "Jian Wang: 8.523852018029669e-05\n",
        "Laurence Tianruo Yang: 8.413681197740778e-05\n",
        "Samuel Pierre: 8.387883584041562e-05\n",
        "Lei Li: 8.327246374174169e-05\n",
        "Hao Wang: 8.25999995523751e-05\n",
        "Yang Yang: 8.248247554430839e-05\n",
        "Xin Chen: 8.14946498437183e-05\n",
        "Fang Liu: 8.141584215923699e-05\n",
        "Lei Zhang: 8.12662565357279e-05\n",
        "Masayuki Murata: 8.110350909961694e-05\n",
        "Tao Zhang: 8.043902864329786e-05\n",
        "Gang Wang: 8.018410512901533e-05\n",
        "Hong Zhang: 7.973926909893572e-05\n",
        "Yong Wang: 7.967609034166204e-05\n",
        "Bin Li: 7.808916142631809e-05\n",
        "Wei Zhao: 7.698812599228662e-05\n",
        "Jing Wang: 7.671448876053602e-05\n",
        "Gang Li: 7.656909818744379e-05\n",
        "Tao Li: 7.635290669780315e-05\n",
        "Mario Gerla: 7.552434294885481e-05\n",
        "Liang Zhang: 7.51628592043363e-05\n",
        "Jun Zhang: 7.469378332758833e-05\n",
        "Wei Xu: 7.454573262707767e-05\n",
        "C. C. Jay Kuo: 7.357036275218525e-05\n",
        "Luc J. Van Gool: 7.233009163938588e-05\n",
        "Elisa Bertino: 7.174076615227387e-05\n",
        "Yan Chen: 7.146691397294093e-05\n",
        "\n",
        "PageRank of Gcc of dblp2005w \n",
        "\n",
        "Ion Stoica: 0.0013965820978820021\n",
        "Wen Gao: 0.0013079225770219148\n",
        "Heung-Yeung Shum: 0.0012089610590833846\n",
        "Scott Shenker: 0.0011981669487219195\n",
        "HongJiang Zhang: 0.0011960536729460653\n",
        "Wei-Ying Ma: 0.0011686209047503734\n",
        "Mario Gerla: 0.0010241358226234594\n",
        "Francky Catthoor: 0.00096854691812081\n",
        "Donald F. Towsley: 0.0009426858622238064\n",
        "Philip S. Yu: 0.0008920801276186278\n",
        "H. Vincent Poor: 0.0008652497729838251\n",
        "Hans-Peter Seidel: 0.0008572204048825235\n",
        "Lenore D. Zuck: 0.0008138587897766071\n",
        "Frank Zeilfelder: 0.0008072937069216597\n",
        "Stanley B. Zdonik: 0.0008070651608118288\n",
        "Aoying Zhou: 0.0008032886902355107\n",
        "Nicholas Ayache: 0.0007867979434479089\n",
        "Shree K. Nayar: 0.0007702327688039061\n",
        "Bo Sun: 0.0007615004351987469\n",
        "Sushil Jajodia: 0.0007578117140081518\n",
        "Guohong Cao: 0.0007514046393176616\n",
        "Vinod Chandran: 0.000730614812154078\n",
        "Thomas S. Huang: 0.0007215374801039193\n",
        "Cheng-Kok Koh: 0.0007199524829910205\n",
        "Jeong-Hyon Hwang: 0.0007050409076715231\n",
        "Sridha Sridharan: 0.0007047447176536061\n",
        "Fei Wu: 0.0006959815556390914\n",
        "David W. Bates: 0.0006860392628389897\n",
        "George Hripcsak: 0.000671790324915504\n",
        "Tejal K. Gandhi: 0.0006676398172790548\n",
        "Jiawei Han: 0.0006628823883339306\n",
        "Hideharu Amano: 0.0006495449297400991\n",
        "Carlos Seara: 0.0006265330031859533\n",
        "Cathy H. Wu: 0.000626022257998765\n",
        "Alexandru Nicolau: 0.0006111635506503529\n",
        "Thomas F. La Porta: 0.0006105154913000076\n",
        "Changshui Zhang: 0.0006056106842773475\n",
        "Minglu Li: 0.0005906125228221102\n",
        "José E. Moreira: 0.0005828181172368436\n",
        "Jinxiang Dong: 0.0005820846371045804\n",
        "Jack Dongarra: 0.0005700788695111013\n",
        "Mani B. Srivastava: 0.0005659971796386236\n",
        "Jian Wang: 0.0005594445497944487\n",
        "Shouyang Wang: 0.0005548811183016681\n",
        "Wensheng Zhang 0001: 0.0005535763517475441\n",
        "Yueting Zhuang: 0.000550717487248448\n",
        "Ramesh R. Rao: 0.0005438305953833861\n",
        "Helge Ritter: 0.0005398931107526786\n",
        "Tak-Wai Chan: 0.0005390400981597172\n",
        "Rolf Apweiler: 0.0005356192608876917\n",
        "```"
      ]
    },
    {
      "cell_type": "markdown",
      "metadata": {
        "id": "KsFh7HPDtJsu"
      },
      "source": [
        "ii. the pairs of author names of the 20 most important edges based on edge betweenness score\n"
      ]
    },
    {
      "cell_type": "code",
      "metadata": {
        "colab": {
          "base_uri": "https://localhost:8080/",
          "height": 374
        },
        "id": "lTPr36e6eC8g",
        "outputId": "1104f9e8-2c81-4cba-a18d-354ed9351f91"
      },
      "source": [
        "# Calculate edge betweenness scores of all 3 graphs\n",
        "\n",
        "Edges2005 = Gccdblp2005.edges() #gets the name of all edges in Gccdblp2005\n",
        "betweenness2005 = nx.edge_betweenness_centrality(Gccdblp2005, k=100)\n",
        "\n",
        "Edges2006 = Gccdblp2006.edges() #gets the name of all edges in Gccdblp2006\n",
        "betweenness2006 = nx.edge_betweenness_centrality(Gccdblp2006, k=100)\n",
        "\n",
        "Edges2005w = Gccdblp2005w.edges() #gets the name of all edges in Gccdblp2005w\n",
        "betweenness2005w = nx.edge_betweenness_centrality(Gccdblp2005w.to_undirected(), k=100)"
      ],
      "execution_count": 12,
      "outputs": [
        {
          "output_type": "error",
          "ename": "KeyboardInterrupt",
          "evalue": "ignored",
          "traceback": [
            "\u001b[0;31m---------------------------------------------------------------------------\u001b[0m",
            "\u001b[0;31mKeyboardInterrupt\u001b[0m                         Traceback (most recent call last)",
            "\u001b[0;32m<ipython-input-12-8d8be4e3062f>\u001b[0m in \u001b[0;36m<module>\u001b[0;34m()\u001b[0m\n\u001b[1;32m      2\u001b[0m \u001b[0;34m\u001b[0m\u001b[0m\n\u001b[1;32m      3\u001b[0m \u001b[0mEdges2005\u001b[0m \u001b[0;34m=\u001b[0m \u001b[0mGccdblp2005\u001b[0m\u001b[0;34m.\u001b[0m\u001b[0medges\u001b[0m\u001b[0;34m(\u001b[0m\u001b[0;34m)\u001b[0m \u001b[0;31m#gets the name of all edges in Gccdblp2005\u001b[0m\u001b[0;34m\u001b[0m\u001b[0;34m\u001b[0m\u001b[0m\n\u001b[0;32m----> 4\u001b[0;31m \u001b[0mbetweenness2005\u001b[0m \u001b[0;34m=\u001b[0m \u001b[0mnx\u001b[0m\u001b[0;34m.\u001b[0m\u001b[0medge_betweenness_centrality\u001b[0m\u001b[0;34m(\u001b[0m\u001b[0mGccdblp2005\u001b[0m\u001b[0;34m,\u001b[0m \u001b[0mk\u001b[0m\u001b[0;34m=\u001b[0m\u001b[0;36m100\u001b[0m\u001b[0;34m)\u001b[0m\u001b[0;34m\u001b[0m\u001b[0;34m\u001b[0m\u001b[0m\n\u001b[0m\u001b[1;32m      5\u001b[0m \u001b[0;34m\u001b[0m\u001b[0m\n\u001b[1;32m      6\u001b[0m \u001b[0mEdges2006\u001b[0m \u001b[0;34m=\u001b[0m \u001b[0mGccdblp2006\u001b[0m\u001b[0;34m.\u001b[0m\u001b[0medges\u001b[0m\u001b[0;34m(\u001b[0m\u001b[0;34m)\u001b[0m \u001b[0;31m#gets the name of all edges in Gccdblp2006\u001b[0m\u001b[0;34m\u001b[0m\u001b[0;34m\u001b[0m\u001b[0m\n",
            "\u001b[0;32m/usr/local/lib/python3.7/dist-packages/networkx/utils/decorators.py\u001b[0m in \u001b[0;36mfunc\u001b[0;34m(_argmap__wrapper, *args, **kwargs)\u001b[0m\n\u001b[1;32m    793\u001b[0m \u001b[0;34m\u001b[0m\u001b[0m\n\u001b[1;32m    794\u001b[0m             \u001b[0;32mdef\u001b[0m \u001b[0mfunc\u001b[0m\u001b[0;34m(\u001b[0m\u001b[0;34m*\u001b[0m\u001b[0margs\u001b[0m\u001b[0;34m,\u001b[0m \u001b[0m__wrapper\u001b[0m\u001b[0;34m=\u001b[0m\u001b[0;32mNone\u001b[0m\u001b[0;34m,\u001b[0m \u001b[0;34m**\u001b[0m\u001b[0mkwargs\u001b[0m\u001b[0;34m)\u001b[0m\u001b[0;34m:\u001b[0m\u001b[0;34m\u001b[0m\u001b[0;34m\u001b[0m\u001b[0m\n\u001b[0;32m--> 795\u001b[0;31m                 \u001b[0;32mreturn\u001b[0m \u001b[0margmap\u001b[0m\u001b[0;34m.\u001b[0m\u001b[0m_lazy_compile\u001b[0m\u001b[0;34m(\u001b[0m\u001b[0m__wrapper\u001b[0m\u001b[0;34m)\u001b[0m\u001b[0;34m(\u001b[0m\u001b[0;34m*\u001b[0m\u001b[0margs\u001b[0m\u001b[0;34m,\u001b[0m \u001b[0;34m**\u001b[0m\u001b[0mkwargs\u001b[0m\u001b[0;34m)\u001b[0m\u001b[0;34m\u001b[0m\u001b[0;34m\u001b[0m\u001b[0m\n\u001b[0m\u001b[1;32m    796\u001b[0m \u001b[0;34m\u001b[0m\u001b[0m\n\u001b[1;32m    797\u001b[0m         \u001b[0;31m# standard function-wrapping stuff\u001b[0m\u001b[0;34m\u001b[0m\u001b[0;34m\u001b[0m\u001b[0;34m\u001b[0m\u001b[0m\n",
            "\u001b[0;32m/usr/local/lib/python3.7/dist-packages/networkx/utils/decorators.py\u001b[0m in \u001b[0;36margmap_edge_betweenness_centrality_9\u001b[0;34m(G, k, normalized, weight, seed)\u001b[0m\n\u001b[1;32m      2\u001b[0m \u001b[0;32mfrom\u001b[0m \u001b[0mos\u001b[0m\u001b[0;34m.\u001b[0m\u001b[0mpath\u001b[0m \u001b[0;32mimport\u001b[0m \u001b[0msplitext\u001b[0m\u001b[0;34m\u001b[0m\u001b[0;34m\u001b[0m\u001b[0m\n\u001b[1;32m      3\u001b[0m \u001b[0;32mfrom\u001b[0m \u001b[0mcontextlib\u001b[0m \u001b[0;32mimport\u001b[0m \u001b[0mcontextmanager\u001b[0m\u001b[0;34m\u001b[0m\u001b[0;34m\u001b[0m\u001b[0m\n\u001b[0;32m----> 4\u001b[0;31m \u001b[0;32mfrom\u001b[0m \u001b[0mpathlib\u001b[0m \u001b[0;32mimport\u001b[0m \u001b[0mPath\u001b[0m\u001b[0;34m\u001b[0m\u001b[0;34m\u001b[0m\u001b[0m\n\u001b[0m\u001b[1;32m      5\u001b[0m \u001b[0;32mimport\u001b[0m \u001b[0mwarnings\u001b[0m\u001b[0;34m\u001b[0m\u001b[0;34m\u001b[0m\u001b[0m\n\u001b[1;32m      6\u001b[0m \u001b[0;34m\u001b[0m\u001b[0m\n",
            "\u001b[0;32m/usr/local/lib/python3.7/dist-packages/networkx/algorithms/centrality/betweenness.py\u001b[0m in \u001b[0;36medge_betweenness_centrality\u001b[0;34m(G, k, normalized, weight, seed)\u001b[0m\n\u001b[1;32m    226\u001b[0m         \u001b[0;31m# single source shortest paths\u001b[0m\u001b[0;34m\u001b[0m\u001b[0;34m\u001b[0m\u001b[0;34m\u001b[0m\u001b[0m\n\u001b[1;32m    227\u001b[0m         \u001b[0;32mif\u001b[0m \u001b[0mweight\u001b[0m \u001b[0;32mis\u001b[0m \u001b[0;32mNone\u001b[0m\u001b[0;34m:\u001b[0m  \u001b[0;31m# use BFS\u001b[0m\u001b[0;34m\u001b[0m\u001b[0;34m\u001b[0m\u001b[0m\n\u001b[0;32m--> 228\u001b[0;31m             \u001b[0mS\u001b[0m\u001b[0;34m,\u001b[0m \u001b[0mP\u001b[0m\u001b[0;34m,\u001b[0m \u001b[0msigma\u001b[0m\u001b[0;34m,\u001b[0m \u001b[0m_\u001b[0m \u001b[0;34m=\u001b[0m \u001b[0m_single_source_shortest_path_basic\u001b[0m\u001b[0;34m(\u001b[0m\u001b[0mG\u001b[0m\u001b[0;34m,\u001b[0m \u001b[0ms\u001b[0m\u001b[0;34m)\u001b[0m\u001b[0;34m\u001b[0m\u001b[0;34m\u001b[0m\u001b[0m\n\u001b[0m\u001b[1;32m    229\u001b[0m         \u001b[0;32melse\u001b[0m\u001b[0;34m:\u001b[0m  \u001b[0;31m# use Dijkstra's algorithm\u001b[0m\u001b[0;34m\u001b[0m\u001b[0;34m\u001b[0m\u001b[0m\n\u001b[1;32m    230\u001b[0m             \u001b[0mS\u001b[0m\u001b[0;34m,\u001b[0m \u001b[0mP\u001b[0m\u001b[0;34m,\u001b[0m \u001b[0msigma\u001b[0m\u001b[0;34m,\u001b[0m \u001b[0m_\u001b[0m \u001b[0;34m=\u001b[0m \u001b[0m_single_source_dijkstra_path_basic\u001b[0m\u001b[0;34m(\u001b[0m\u001b[0mG\u001b[0m\u001b[0;34m,\u001b[0m \u001b[0ms\u001b[0m\u001b[0;34m,\u001b[0m \u001b[0mweight\u001b[0m\u001b[0;34m)\u001b[0m\u001b[0;34m\u001b[0m\u001b[0;34m\u001b[0m\u001b[0m\n",
            "\u001b[0;32m/usr/local/lib/python3.7/dist-packages/networkx/algorithms/centrality/betweenness.py\u001b[0m in \u001b[0;36m_single_source_shortest_path_basic\u001b[0;34m(G, s)\u001b[0m\n\u001b[1;32m    266\u001b[0m         \u001b[0mDv\u001b[0m \u001b[0;34m=\u001b[0m \u001b[0mD\u001b[0m\u001b[0;34m[\u001b[0m\u001b[0mv\u001b[0m\u001b[0;34m]\u001b[0m\u001b[0;34m\u001b[0m\u001b[0;34m\u001b[0m\u001b[0m\n\u001b[1;32m    267\u001b[0m         \u001b[0msigmav\u001b[0m \u001b[0;34m=\u001b[0m \u001b[0msigma\u001b[0m\u001b[0;34m[\u001b[0m\u001b[0mv\u001b[0m\u001b[0;34m]\u001b[0m\u001b[0;34m\u001b[0m\u001b[0;34m\u001b[0m\u001b[0m\n\u001b[0;32m--> 268\u001b[0;31m         \u001b[0;32mfor\u001b[0m \u001b[0mw\u001b[0m \u001b[0;32min\u001b[0m \u001b[0mG\u001b[0m\u001b[0;34m[\u001b[0m\u001b[0mv\u001b[0m\u001b[0;34m]\u001b[0m\u001b[0;34m:\u001b[0m\u001b[0;34m\u001b[0m\u001b[0;34m\u001b[0m\u001b[0m\n\u001b[0m\u001b[1;32m    269\u001b[0m             \u001b[0;32mif\u001b[0m \u001b[0mw\u001b[0m \u001b[0;32mnot\u001b[0m \u001b[0;32min\u001b[0m \u001b[0mD\u001b[0m\u001b[0;34m:\u001b[0m\u001b[0;34m\u001b[0m\u001b[0;34m\u001b[0m\u001b[0m\n\u001b[1;32m    270\u001b[0m                 \u001b[0mQ\u001b[0m\u001b[0;34m.\u001b[0m\u001b[0mappend\u001b[0m\u001b[0;34m(\u001b[0m\u001b[0mw\u001b[0m\u001b[0;34m)\u001b[0m\u001b[0;34m\u001b[0m\u001b[0;34m\u001b[0m\u001b[0m\n",
            "\u001b[0;32m/usr/local/lib/python3.7/dist-packages/networkx/classes/coreviews.py\u001b[0m in \u001b[0;36m<genexpr>\u001b[0;34m(.0)\u001b[0m\n\u001b[1;32m    280\u001b[0m         \u001b[0;32mif\u001b[0m \u001b[0mnode_ok_shorter\u001b[0m\u001b[0;34m:\u001b[0m\u001b[0;34m\u001b[0m\u001b[0;34m\u001b[0m\u001b[0m\n\u001b[1;32m    281\u001b[0m             \u001b[0;32mreturn\u001b[0m \u001b[0;34m(\u001b[0m\u001b[0mn\u001b[0m \u001b[0;32mfor\u001b[0m \u001b[0mn\u001b[0m \u001b[0;32min\u001b[0m \u001b[0mself\u001b[0m\u001b[0;34m.\u001b[0m\u001b[0mNODE_OK\u001b[0m\u001b[0;34m.\u001b[0m\u001b[0mnodes\u001b[0m \u001b[0;32mif\u001b[0m \u001b[0mn\u001b[0m \u001b[0;32min\u001b[0m \u001b[0mself\u001b[0m\u001b[0;34m.\u001b[0m\u001b[0m_atlas\u001b[0m\u001b[0;34m)\u001b[0m\u001b[0;34m\u001b[0m\u001b[0;34m\u001b[0m\u001b[0m\n\u001b[0;32m--> 282\u001b[0;31m         \u001b[0;32mreturn\u001b[0m \u001b[0;34m(\u001b[0m\u001b[0mn\u001b[0m \u001b[0;32mfor\u001b[0m \u001b[0mn\u001b[0m \u001b[0;32min\u001b[0m \u001b[0mself\u001b[0m\u001b[0;34m.\u001b[0m\u001b[0m_atlas\u001b[0m \u001b[0;32mif\u001b[0m \u001b[0mself\u001b[0m\u001b[0;34m.\u001b[0m\u001b[0mNODE_OK\u001b[0m\u001b[0;34m(\u001b[0m\u001b[0mn\u001b[0m\u001b[0;34m)\u001b[0m\u001b[0;34m)\u001b[0m\u001b[0;34m\u001b[0m\u001b[0;34m\u001b[0m\u001b[0m\n\u001b[0m\u001b[1;32m    283\u001b[0m \u001b[0;34m\u001b[0m\u001b[0m\n\u001b[1;32m    284\u001b[0m     \u001b[0;32mdef\u001b[0m \u001b[0m__getitem__\u001b[0m\u001b[0;34m(\u001b[0m\u001b[0mself\u001b[0m\u001b[0;34m,\u001b[0m \u001b[0mkey\u001b[0m\u001b[0;34m)\u001b[0m\u001b[0;34m:\u001b[0m\u001b[0;34m\u001b[0m\u001b[0;34m\u001b[0m\u001b[0m\n",
            "\u001b[0;31mKeyboardInterrupt\u001b[0m: "
          ]
        }
      ]
    },
    {
      "cell_type": "code",
      "metadata": {
        "id": "rMxbxecktJOv",
        "colab": {
          "base_uri": "https://localhost:8080/",
          "height": 265
        },
        "outputId": "394e0555-426b-47dc-9711-33d40af931d5"
      },
      "source": [
        "import networkx as nx\n",
        "import pandas as pd\n",
        "import numpy as np\n",
        "import operator\n",
        "\n",
        "\n",
        "print(\"20 most important edges based on edge betweenness score of Gcc of dblp2005 \\n\")\n",
        "sortedbetweenness2005 = dict(sorted(betweenness2005.items(), key=operator.itemgetter(1),reverse=True))\n",
        "i = 0\n",
        "for k in sortedbetweenness2005:\n",
        "    print(\"%s: %s\" % (k,sortedbetweenness2005[k]))\n",
        "    i += 1\n",
        "    if i >19: break\n",
        "print()\n",
        "\n",
        "print(\"20 most important edges based on edge betweenness score of Gcc of dblp2006 \\n\")\n",
        "sortedbetweenness2006 = dict(sorted(betweenness2006.items(), key=operator.itemgetter(1),reverse=True))\n",
        "i = 0\n",
        "for k in sortedbetweenness2006:\n",
        "    print(\"%s: %s\" % (k,sortedbetweenness2006[k]))\n",
        "    i += 1\n",
        "    if i >19: break\n",
        "print()\n",
        "\n",
        "for node,value in betweenness2005w.items():\n",
        "    betweenness2005w[node] = value/2 #divide each betweenness score by 2 because in directed networks betweeness scores are half what they would be in undirected networks\n",
        "\n",
        "print(\"20 most important edges based on edge betweenness score of Gcc of dblp2005 \\n\")\n",
        "sortedbetweenness2005w = dict(sorted(betweenness2005w.items(), key=operator.itemgetter(1),reverse=True))\n",
        "i = 0\n",
        "for k in sortedbetweenness2005w:\n",
        "    print(\"%s: %s\" % (k,sortedbetweenness2005w[k]))\n",
        "    i += 1\n",
        "    if i >19: break\n"
      ],
      "execution_count": 13,
      "outputs": [
        {
          "output_type": "stream",
          "name": "stdout",
          "text": [
            "20 most important edges based on edge betweenness score of Gcc of dblp2005 \n",
            "\n"
          ]
        },
        {
          "output_type": "error",
          "ename": "NameError",
          "evalue": "ignored",
          "traceback": [
            "\u001b[0;31m---------------------------------------------------------------------------\u001b[0m",
            "\u001b[0;31mNameError\u001b[0m                                 Traceback (most recent call last)",
            "\u001b[0;32m<ipython-input-13-df0550d8ef95>\u001b[0m in \u001b[0;36m<module>\u001b[0;34m()\u001b[0m\n\u001b[1;32m      6\u001b[0m \u001b[0;34m\u001b[0m\u001b[0m\n\u001b[1;32m      7\u001b[0m \u001b[0mprint\u001b[0m\u001b[0;34m(\u001b[0m\u001b[0;34m\"20 most important edges based on edge betweenness score of Gcc of dblp2005 \\n\"\u001b[0m\u001b[0;34m)\u001b[0m\u001b[0;34m\u001b[0m\u001b[0;34m\u001b[0m\u001b[0m\n\u001b[0;32m----> 8\u001b[0;31m \u001b[0msortedbetweenness2005\u001b[0m \u001b[0;34m=\u001b[0m \u001b[0mdict\u001b[0m\u001b[0;34m(\u001b[0m\u001b[0msorted\u001b[0m\u001b[0;34m(\u001b[0m\u001b[0mbetweenness2005\u001b[0m\u001b[0;34m.\u001b[0m\u001b[0mitems\u001b[0m\u001b[0;34m(\u001b[0m\u001b[0;34m)\u001b[0m\u001b[0;34m,\u001b[0m \u001b[0mkey\u001b[0m\u001b[0;34m=\u001b[0m\u001b[0moperator\u001b[0m\u001b[0;34m.\u001b[0m\u001b[0mitemgetter\u001b[0m\u001b[0;34m(\u001b[0m\u001b[0;36m1\u001b[0m\u001b[0;34m)\u001b[0m\u001b[0;34m,\u001b[0m\u001b[0mreverse\u001b[0m\u001b[0;34m=\u001b[0m\u001b[0;32mTrue\u001b[0m\u001b[0;34m)\u001b[0m\u001b[0;34m)\u001b[0m\u001b[0;34m\u001b[0m\u001b[0;34m\u001b[0m\u001b[0m\n\u001b[0m\u001b[1;32m      9\u001b[0m \u001b[0mi\u001b[0m \u001b[0;34m=\u001b[0m \u001b[0;36m0\u001b[0m\u001b[0;34m\u001b[0m\u001b[0;34m\u001b[0m\u001b[0m\n\u001b[1;32m     10\u001b[0m \u001b[0;32mfor\u001b[0m \u001b[0mk\u001b[0m \u001b[0;32min\u001b[0m \u001b[0msortedbetweenness2005\u001b[0m\u001b[0;34m:\u001b[0m\u001b[0;34m\u001b[0m\u001b[0;34m\u001b[0m\u001b[0m\n",
            "\u001b[0;31mNameError\u001b[0m: name 'betweenness2005' is not defined"
          ]
        }
      ]
    },
    {
      "cell_type": "markdown",
      "metadata": {
        "id": "eN5fdEA04R5U"
      },
      "source": [
        "\n",
        "\n",
        "```\n",
        "20 most important edges based on edge betweenness score of Gcc of dblp2005 \n",
        "\n",
        "('Marc Moonen', 'Jean-Baptiste Maj'): 1.4351252700250697e-05\n",
        "('Padraig Cunningham', 'Ramon López de Mántaras'): 1.2678811191113987e-05\n",
        "('Jian Wang', 'Hideki Imai'): 1.1722468790473934e-05\n",
        "('Yuguang Fang', 'Yi-Bing Lin'): 1.022415659158798e-05\n",
        "('Barry L. Nelson', 'David Goldsman'): 1.0113146023911563e-05\n",
        "('Mitsuhisa Sato', 'Yoshio Tanaka'): 9.950599111309635e-06\n",
        "('Satoshi Sekiguchi', 'Yoshio Tanaka'): 9.93346129803907e-06\n",
        "('David Goldsman', 'Enver Yücesan'): 9.873085481389457e-06\n",
        "('Enver Yücesan', 'Kwangyeol Ryu'): 9.830721856238498e-06\n",
        "('Barry L. Nelson', 'Feng Yang'): 9.824385687873941e-06\n",
        "('Yong Yu', 'Yujie Zhang'): 9.72853527232071e-06\n",
        "('Vladimír Marík', 'Marek Obitko'): 9.727894976615115e-06\n",
        "('Qiang Yang 0001', 'David McSherry'): 9.701871904310288e-06\n",
        "('Yi-Bing Lin', 'Chai-Hien Gan'): 9.698006814314737e-06\n",
        "('Václav Snásel', 'Marek Obitko'): 9.693400755516964e-06\n",
        "('Hitoshi Isahara', 'Yasuyuki Kono'): 9.69335703660556e-06\n",
        "('Masatsugu Kidode', 'Yasuyuki Kono'): 9.659081410064433e-06\n",
        "('Hitoshi Isahara', 'Yujie Zhang'): 9.63102899706656e-06\n",
        "('Jack Dongarra', 'Péter Kacsuk'): 9.625372138772008e-06\n",
        "('Norimichi Ukita', 'Masatsugu Kidode'): 9.624893221346114e-06\n",
        "\n",
        "20 most important edges based on edge betweenness score of Gcc of dblp2006 \n",
        "\n",
        "('Yang Yang', 'Jinhui Xu'): 9.631355542962565e-06\n",
        "('Michael Mateas', 'Michael Nitsche'): 8.236792354606622e-06\n",
        "('Michael Nitsche', 'Paul Richens'): 8.230529427965177e-06\n",
        "('Tsu-Tian Lee', 'Shun-Feng Su'): 8.229873165692313e-06\n",
        "('Christian Haubelt', 'Jürgen Teich'): 8.223222680216826e-06\n",
        "('Wiro J. Niessen', 'Max A. Viergever'): 8.211153498668208e-06\n",
        "('John Mylopoulos', 'Huy Pham'): 8.204825333207582e-06\n",
        "('Alexander J. Hartemink', 'Jing Yu'): 8.191973285828785e-06\n",
        "('Jun Zou', 'Dongmei Zhao'): 8.18529821126233e-06\n",
        "('Yong-Bin Kim', 'Minsu Choi'): 8.172923550627724e-06\n",
        "('Holger Schmidt', 'Ina Wentzlaff'): 8.166595385167096e-06\n",
        "('Christian Igel', 'Nikolaus Hansen'): 8.166530146347914e-06\n",
        "('Martin Vingron', 'Chen-Hsiang Yeang'): 8.160201980887292e-06\n",
        "('Yu-Hong Dai', 'Roger Fletcher'): 8.16020198088729e-06\n",
        "('Markus Specker', 'Ina Wentzlaff'): 8.160201980887288e-06\n",
        "('Wai-Yip Chan', 'Hagit Shatkay'): 8.160136742068108e-06\n",
        "('Alexander J. Hartemink', 'Uwe Ohler'): 8.160071503248926e-06\n",
        "('Sven Leyffer', 'Roger Fletcher'): 8.140891290409502e-06\n",
        "('Minsu Choi', 'Nohpill Park'): 8.1408912904095e-06\n",
        "('Shashi Kumar', 'Zebo Peng'): 8.140532476904003e-06\n",
        "\n",
        "20 most important edges based on edge betweenness score of Gcc of dblp2005 \n",
        "\n",
        "('Francky Catthoor', 'Hua Wang'): 3.3531222901559076e-05\n",
        "('Andrzej Cichocki', 'Fabian J. Theis'): 2.911419140833001e-05\n",
        "('Alex E. Lash', 'Tugba O. Suzek'): 2.784386971772773e-05\n",
        "('Baruch Schieber', 'Daniel Geist'): 2.5879556549383454e-05\n",
        "('Hiroshi Nagamochi', 'Liang Zhao'): 2.580572984866988e-05\n",
        "('Paolo Terenziani', 'Richard T. Snodgrass'): 2.5793809200196537e-05\n",
        "('Jianfeng Chen', 'Ning Liu'): 2.5726953910742345e-05\n",
        "('Liang-Gee Chen', 'Chia-Lin Lee'): 2.5687373921152477e-05\n",
        "('Yuan Miao', 'Chunyan Miao'): 2.5657502299367598e-05\n",
        "('Minoru Maruyama', 'Hidetoshi Miyao'): 2.560492678047644e-05\n",
        "('Chung-Ta King', 'Amit Banerjee'): 2.5603628619516167e-05\n",
        "('Kyungtae Kang', 'Jinsung Cho'): 2.5603628619516164e-05\n",
        "('Hiroshi Nagamochi', 'Hitoshi Fujita'): 2.5602979539036028e-05\n",
        "('Paolo Terenziani', 'Luca Anselma'): 2.560297953903602e-05\n",
        "('Michael Yudelson', 'Peter Brusilovsky'): 2.5602330458555885e-05\n",
        "('Antonio Bicchi', 'Enzo Pasquale Scilingo'): 2.5602330458555885e-05\n",
        "('Marc Keita', 'Jean Vanderdonckt'): 2.559973413663534e-05\n",
        "('Paul Tennent', 'Matthew Chalmers'): 2.559876051591513e-05\n",
        "('Ron Cytron', 'John W. Lockwood'): 2.5592810611513855e-05\n",
        "('Qing Wang', 'Yuan Chen'): 2.557951222391176e-05\n",
        "```\n",
        "\n"
      ]
    },
    {
      "cell_type": "markdown",
      "metadata": {
        "id": "2OAK-9oBtQgN"
      },
      "source": [
        "```\n",
        "G = nx.from_pandas_edgelist(df, create_using=nx.Graph()) #recreate the network as a undirected network to calculate betweenness score and plot\n",
        "Betweenness_dict = nx.betweenness_centrality(G, normalized=False) #gets the betweenness score for of all nodes in the network\n",
        "for node,value in Betweenness_dict.items():\n",
        "    Betweenness_dict[node] = value/2 #divide each betweenness score by 2 because in directed networks betweeness scores are half what they would be in undirected networks\n",
        "```\n",
        "Briefly comment on the results and how they compare with each other.\n",
        "Use small text font to fit the results in the report.<br><br>\n",
        "\n"
      ]
    },
    {
      "cell_type": "markdown",
      "metadata": {
        "id": "pHZBjYmQWCx9"
      },
      "source": [
        "C. Link Prediction in Graphs (40%)<br><br>\n",
        "Given the co-authorship network of 2005, we want to predict the new co-authorships that will occur in 2006 (i.e., the\n",
        "new edges). Your prediction will be based on a number of prediction methods proposed in the literature and your task is\n",
        "to evaluate their performance. The steps to follow are described below:<br><br>\n",
        "i. based on dblp2005 create a graph dblp2005-core that includes nodes with degree d>=3.<br><br>"
      ]
    },
    {
      "cell_type": "code",
      "metadata": {
        "colab": {
          "base_uri": "https://localhost:8080/",
          "height": 163
        },
        "id": "CTTzraKO6Ii9",
        "outputId": "3080019b-ea3e-4116-9d0a-bdf08f32fed9"
      },
      "source": [
        "# degrees = [val for (node, val) in G.degree()]"
      ],
      "execution_count": 14,
      "outputs": [
        {
          "output_type": "error",
          "ename": "NameError",
          "evalue": "ignored",
          "traceback": [
            "\u001b[0;31m---------------------------------------------------------------------------\u001b[0m",
            "\u001b[0;31mNameError\u001b[0m                                 Traceback (most recent call last)",
            "\u001b[0;32m<ipython-input-14-f120040ca2df>\u001b[0m in \u001b[0;36m<module>\u001b[0;34m()\u001b[0m\n\u001b[0;32m----> 1\u001b[0;31m \u001b[0mdegrees\u001b[0m \u001b[0;34m=\u001b[0m \u001b[0;34m[\u001b[0m\u001b[0mval\u001b[0m \u001b[0;32mfor\u001b[0m \u001b[0;34m(\u001b[0m\u001b[0mnode\u001b[0m\u001b[0;34m,\u001b[0m \u001b[0mval\u001b[0m\u001b[0;34m)\u001b[0m \u001b[0;32min\u001b[0m \u001b[0mG\u001b[0m\u001b[0;34m.\u001b[0m\u001b[0mdegree\u001b[0m\u001b[0;34m(\u001b[0m\u001b[0;34m)\u001b[0m\u001b[0;34m]\u001b[0m\u001b[0;34m\u001b[0m\u001b[0;34m\u001b[0m\u001b[0m\n\u001b[0m",
            "\u001b[0;31mNameError\u001b[0m: name 'G' is not defined"
          ]
        }
      ]
    },
    {
      "cell_type": "code",
      "metadata": {
        "id": "EMA1StbMWCsO"
      },
      "source": [
        "import networkx as nx\n",
        "\n",
        "deg = Gccdblp2005.degree()\n",
        "to_keep = [n for (n, deg) in deg if deg >= 3]\n",
        "dblp2005core = Gccdblp2005.subgraph(to_keep)\n"
      ],
      "execution_count": 15,
      "outputs": []
    },
    {
      "cell_type": "markdown",
      "metadata": {
        "id": "9pqAXZX9WClK"
      },
      "source": [
        "\n",
        "ii. based on dblp2006 create a graph dblp2006-core that includes nodes with degree d>=3.<br><br>\n"
      ]
    },
    {
      "cell_type": "code",
      "metadata": {
        "id": "OWZXeFw5WCeF",
        "colab": {
          "base_uri": "https://localhost:8080/"
        },
        "outputId": "0103722b-043a-4c6c-e366-0d6a5f7e1752"
      },
      "source": [
        "deg = Gccdblp2006.degree()\n",
        "to_keep = [n for (n, deg) in deg if deg >= 3]\n",
        "dblp2006core = Gccdblp2006.subgraph(to_keep)\n",
        "\n",
        "print(Gccdblp2006)\n",
        "print(dblp2006core)"
      ],
      "execution_count": 16,
      "outputs": [
        {
          "output_type": "stream",
          "name": "stdout",
          "text": [
            "Graph with 123808 nodes and 356968 edges\n",
            "Graph with 90173 nodes and 306757 edges\n"
          ]
        }
      ]
    },
    {
      "cell_type": "markdown",
      "metadata": {
        "id": "GSZFp7kGWCQH"
      },
      "source": [
        "iii. compute the list of friends-of-friends FoF in dblp2005-core; this is the list of pairs of nodes that are exactly\n",
        "two-hops away in the network. FoF is the list of candidate edges to consider for the prediction problem.<br><br>\n"
      ]
    },
    {
      "cell_type": "code",
      "metadata": {
        "colab": {
          "base_uri": "https://localhost:8080/"
        },
        "id": "6FOfH7uxOtcv",
        "outputId": "6265f367-7cd0-4842-b90a-bea6f25fac52"
      },
      "source": [
        "FoFList = []\n",
        "for n in dblp2005core.nodes:\n",
        "  for f in dblp2005core.neighbors(n):\n",
        "    FoFList.append((n,f))\n",
        "\n",
        "print(len(FoFList))"
      ],
      "execution_count": 17,
      "outputs": [
        {
          "output_type": "stream",
          "name": "stdout",
          "text": [
            "511626\n"
          ]
        }
      ]
    },
    {
      "cell_type": "code",
      "metadata": {
        "id": "n7T666y_Swrh"
      },
      "source": [
        "# Testing\n",
        "i = 0\n",
        "for k in FoFList:\n",
        "    print(k)\n",
        "    i += 1\n",
        "    if i >19: break"
      ],
      "execution_count": null,
      "outputs": []
    },
    {
      "cell_type": "code",
      "metadata": {
        "id": "qKyNVhfSMgdS"
      },
      "source": [
        "# with open('FoFListTuple.txt', 'w') as f:\n",
        "#     for item in FoFList:\n",
        "#         f.write(\"%s\\n\" % item)"
      ],
      "execution_count": null,
      "outputs": []
    },
    {
      "cell_type": "markdown",
      "metadata": {
        "id": "k42uxmDIWMAu"
      },
      "source": [
        "iv. compute the set of edges T that do not exist in dblp2005-core but exist in dblp2006-core. This is the\n",
        "set of target edges that we would ideally be able to predict.<br><br>\n"
      ]
    },
    {
      "cell_type": "code",
      "metadata": {
        "id": "vT5Lm-5TWL6q",
        "colab": {
          "base_uri": "https://localhost:8080/"
        },
        "outputId": "baa3806b-add0-409a-e0e5-2b05b58f3060"
      },
      "source": [
        "corelist = list(dblp2006core.edges)[None:None:None]\n",
        "s = set(FoFList)\n",
        "difference = [x for x in corelist if x not in s]\n",
        "\n",
        "# s = set(temp2)\n",
        "# temp3 = [x for x in temp1 if x not in s]\n",
        "\n",
        "print()\n",
        "print(len(difference))"
      ],
      "execution_count": 18,
      "outputs": [
        {
          "output_type": "stream",
          "name": "stdout",
          "text": [
            "\n",
            "252968\n"
          ]
        }
      ]
    },
    {
      "cell_type": "code",
      "metadata": {
        "colab": {
          "base_uri": "https://localhost:8080/"
        },
        "id": "d1b1pCJwS9Hg",
        "outputId": "0730246f-6b46-45e5-bd6d-9c5a7a00820a"
      },
      "source": [
        "# Testing\n",
        "i = 0\n",
        "for k in dblp2006core.edges:\n",
        "    print(k)\n",
        "    i += 1\n",
        "    if i >9: break\n"
      ],
      "execution_count": 19,
      "outputs": [
        {
          "output_type": "stream",
          "name": "stdout",
          "text": [
            "('Fabien Dekeyser', 'E. Mouragnon')\n",
            "('Fabien Dekeyser', 'Maxime Lhuillier')\n",
            "('Fabien Dekeyser', 'Michel Dhome')\n",
            "('Fabien Dekeyser', 'Patrick Sayd')\n",
            "('Itai Benjamini', 'Gady Kozma')\n",
            "('Itai Benjamini', 'László Lovász')\n",
            "('Itai Benjamini', 'D. A. N. Romik')\n",
            "('Itai Benjamini', 'Gábor Tardos')\n",
            "('Tsutomu Terada', 'Shinya Kitajima')\n",
            "('Tsutomu Terada', 'Jing Cai')\n"
          ]
        }
      ]
    },
    {
      "cell_type": "code",
      "metadata": {
        "colab": {
          "base_uri": "https://localhost:8080/"
        },
        "id": "_Dre8qxdVPiV",
        "outputId": "2073f50b-aaa2-4c9b-91f6-62331b865744"
      },
      "source": [
        "# Testing\n",
        "i = 0\n",
        "for k in difference:\n",
        "    print(k)\n",
        "    i += 1\n",
        "    if i >9: break"
      ],
      "execution_count": 20,
      "outputs": [
        {
          "output_type": "stream",
          "name": "stdout",
          "text": [
            "('Fabien Dekeyser', 'E. Mouragnon')\n",
            "('Fabien Dekeyser', 'Maxime Lhuillier')\n",
            "('Fabien Dekeyser', 'Michel Dhome')\n",
            "('Fabien Dekeyser', 'Patrick Sayd')\n",
            "('Itai Benjamini', 'Gady Kozma')\n",
            "('Itai Benjamini', 'László Lovász')\n",
            "('Itai Benjamini', 'D. A. N. Romik')\n",
            "('Itai Benjamini', 'Gábor Tardos')\n",
            "('Tsutomu Terada', 'Shinya Kitajima')\n",
            "('Tsutomu Terada', 'Kohei Tanaka')\n"
          ]
        }
      ]
    },
    {
      "cell_type": "markdown",
      "metadata": {
        "id": "jjrKo5fdWL0L"
      },
      "source": [
        "\n",
        "v. compute the set of predicted edges P according to the following link prediction methods:<br><br>\n",
        "a. RD: random predictor<br>\n",
        "b. CN: common neighbors<br>\n",
        "c. JC: jaccard coefficient<br>\n",
        "d. PA: preferential attachment<br>\n",
        "e. AA: adamic/adar<br>\n"
      ]
    },
    {
      "cell_type": "code",
      "metadata": {
        "id": "oaaoJ7jjWLsx",
        "colab": {
          "base_uri": "https://localhost:8080/",
          "height": 391
        },
        "outputId": "5b2e3bbe-20f8-480e-aa12-8292bbd7954d"
      },
      "source": [
        "import networkx as nx\n",
        "CNpredict = nx.common_neighbor_centrality(dblp2005core)\n",
        "print(\"\\nCNpredict\")\n"
      ],
      "execution_count": 42,
      "outputs": [
        {
          "output_type": "error",
          "ename": "KeyboardInterrupt",
          "evalue": "ignored",
          "traceback": [
            "\u001b[0;31m---------------------------------------------------------------------------\u001b[0m",
            "\u001b[0;31mKeyboardInterrupt\u001b[0m                         Traceback (most recent call last)",
            "\u001b[0;32m/usr/local/lib/python3.7/dist-packages/IPython/core/interactiveshell.py\u001b[0m in \u001b[0;36mrun_code\u001b[0;34m(self, code_obj, result)\u001b[0m\n\u001b[1;32m   2881\u001b[0m                 \u001b[0;31m#rprint('Running code', repr(code_obj)) # dbg\u001b[0m\u001b[0;34m\u001b[0m\u001b[0;34m\u001b[0m\u001b[0;34m\u001b[0m\u001b[0m\n\u001b[0;32m-> 2882\u001b[0;31m                 \u001b[0mexec\u001b[0m\u001b[0;34m(\u001b[0m\u001b[0mcode_obj\u001b[0m\u001b[0;34m,\u001b[0m \u001b[0mself\u001b[0m\u001b[0;34m.\u001b[0m\u001b[0muser_global_ns\u001b[0m\u001b[0;34m,\u001b[0m \u001b[0mself\u001b[0m\u001b[0;34m.\u001b[0m\u001b[0muser_ns\u001b[0m\u001b[0;34m)\u001b[0m\u001b[0;34m\u001b[0m\u001b[0;34m\u001b[0m\u001b[0m\n\u001b[0m\u001b[1;32m   2883\u001b[0m             \u001b[0;32mfinally\u001b[0m\u001b[0;34m:\u001b[0m\u001b[0;34m\u001b[0m\u001b[0;34m\u001b[0m\u001b[0m\n",
            "\u001b[0;32m<ipython-input-42-3321c3b53b58>\u001b[0m in \u001b[0;36m<module>\u001b[0;34m()\u001b[0m\n\u001b[1;32m      1\u001b[0m \u001b[0;32mimport\u001b[0m \u001b[0mnetworkx\u001b[0m \u001b[0;32mas\u001b[0m \u001b[0mnx\u001b[0m\u001b[0;34m\u001b[0m\u001b[0;34m\u001b[0m\u001b[0m\n\u001b[0;32m----> 2\u001b[0;31m \u001b[0mCNpredict\u001b[0m \u001b[0;34m=\u001b[0m \u001b[0mnx\u001b[0m\u001b[0;34m.\u001b[0m\u001b[0mcommon_neighbor_centrality\u001b[0m\u001b[0;34m(\u001b[0m\u001b[0mdblp2005core\u001b[0m\u001b[0;34m)\u001b[0m\u001b[0;34m\u001b[0m\u001b[0;34m\u001b[0m\u001b[0m\n\u001b[0m\u001b[1;32m      3\u001b[0m \u001b[0mprint\u001b[0m\u001b[0;34m(\u001b[0m\u001b[0;34m\"\\nCNpredict\"\u001b[0m\u001b[0;34m)\u001b[0m\u001b[0;34m\u001b[0m\u001b[0;34m\u001b[0m\u001b[0m\n",
            "\u001b[0;32m/usr/local/lib/python3.7/dist-packages/networkx/utils/decorators.py\u001b[0m in \u001b[0;36margmap_common_neighbor_centrality_32\u001b[0;34m(G, ebunch, alpha)\u001b[0m\n\u001b[1;32m      4\u001b[0m \u001b[0;32mfrom\u001b[0m \u001b[0mpathlib\u001b[0m \u001b[0;32mimport\u001b[0m \u001b[0mPath\u001b[0m\u001b[0;34m\u001b[0m\u001b[0;34m\u001b[0m\u001b[0m\n\u001b[0;32m----> 5\u001b[0;31m \u001b[0;32mimport\u001b[0m \u001b[0mwarnings\u001b[0m\u001b[0;34m\u001b[0m\u001b[0;34m\u001b[0m\u001b[0m\n\u001b[0m\u001b[1;32m      6\u001b[0m \u001b[0;34m\u001b[0m\u001b[0m\n",
            "\u001b[0;32m/usr/local/lib/python3.7/dist-packages/networkx/algorithms/link_prediction.py\u001b[0m in \u001b[0;36mcommon_neighbor_centrality\u001b[0;34m(G, ebunch, alpha)\u001b[0m\n\u001b[1;32m    277\u001b[0m     \"\"\"\n\u001b[0;32m--> 278\u001b[0;31m     \u001b[0mshortest_path\u001b[0m \u001b[0;34m=\u001b[0m \u001b[0mnx\u001b[0m\u001b[0;34m.\u001b[0m\u001b[0mshortest_path\u001b[0m\u001b[0;34m(\u001b[0m\u001b[0mG\u001b[0m\u001b[0;34m)\u001b[0m\u001b[0;34m\u001b[0m\u001b[0;34m\u001b[0m\u001b[0m\n\u001b[0m\u001b[1;32m    279\u001b[0m \u001b[0;34m\u001b[0m\u001b[0m\n",
            "\u001b[0;32m/usr/local/lib/python3.7/dist-packages/networkx/algorithms/shortest_paths/generic.py\u001b[0m in \u001b[0;36mshortest_path\u001b[0;34m(G, source, target, weight, method)\u001b[0m\n\u001b[1;32m    129\u001b[0m             \u001b[0;32mif\u001b[0m \u001b[0mmethod\u001b[0m \u001b[0;34m==\u001b[0m \u001b[0;34m\"unweighted\"\u001b[0m\u001b[0;34m:\u001b[0m\u001b[0;34m\u001b[0m\u001b[0;34m\u001b[0m\u001b[0m\n\u001b[0;32m--> 130\u001b[0;31m                 \u001b[0mpaths\u001b[0m \u001b[0;34m=\u001b[0m \u001b[0mdict\u001b[0m\u001b[0;34m(\u001b[0m\u001b[0mnx\u001b[0m\u001b[0;34m.\u001b[0m\u001b[0mall_pairs_shortest_path\u001b[0m\u001b[0;34m(\u001b[0m\u001b[0mG\u001b[0m\u001b[0;34m)\u001b[0m\u001b[0;34m)\u001b[0m\u001b[0;34m\u001b[0m\u001b[0;34m\u001b[0m\u001b[0m\n\u001b[0m\u001b[1;32m    131\u001b[0m             \u001b[0;32melif\u001b[0m \u001b[0mmethod\u001b[0m \u001b[0;34m==\u001b[0m \u001b[0;34m\"dijkstra\"\u001b[0m\u001b[0;34m:\u001b[0m\u001b[0;34m\u001b[0m\u001b[0;34m\u001b[0m\u001b[0m\n",
            "\u001b[0;32m/usr/local/lib/python3.7/dist-packages/networkx/algorithms/shortest_paths/unweighted.py\u001b[0m in \u001b[0;36mall_pairs_shortest_path\u001b[0;34m(G, cutoff)\u001b[0m\n\u001b[1;32m    458\u001b[0m     \u001b[0;32mfor\u001b[0m \u001b[0mn\u001b[0m \u001b[0;32min\u001b[0m \u001b[0mG\u001b[0m\u001b[0;34m:\u001b[0m\u001b[0;34m\u001b[0m\u001b[0;34m\u001b[0m\u001b[0m\n\u001b[0;32m--> 459\u001b[0;31m         \u001b[0;32myield\u001b[0m \u001b[0;34m(\u001b[0m\u001b[0mn\u001b[0m\u001b[0;34m,\u001b[0m \u001b[0msingle_source_shortest_path\u001b[0m\u001b[0;34m(\u001b[0m\u001b[0mG\u001b[0m\u001b[0;34m,\u001b[0m \u001b[0mn\u001b[0m\u001b[0;34m,\u001b[0m \u001b[0mcutoff\u001b[0m\u001b[0;34m=\u001b[0m\u001b[0mcutoff\u001b[0m\u001b[0;34m)\u001b[0m\u001b[0;34m)\u001b[0m\u001b[0;34m\u001b[0m\u001b[0;34m\u001b[0m\u001b[0m\n\u001b[0m\u001b[1;32m    460\u001b[0m \u001b[0;34m\u001b[0m\u001b[0m\n",
            "\u001b[0;32m/usr/local/lib/python3.7/dist-packages/networkx/algorithms/shortest_paths/unweighted.py\u001b[0m in \u001b[0;36msingle_source_shortest_path\u001b[0;34m(G, source, cutoff)\u001b[0m\n\u001b[1;32m    341\u001b[0m     \u001b[0mpaths\u001b[0m \u001b[0;34m=\u001b[0m \u001b[0;34m{\u001b[0m\u001b[0msource\u001b[0m\u001b[0;34m:\u001b[0m \u001b[0;34m[\u001b[0m\u001b[0msource\u001b[0m\u001b[0;34m]\u001b[0m\u001b[0;34m}\u001b[0m  \u001b[0;31m# paths dictionary  (paths to key from source)\u001b[0m\u001b[0;34m\u001b[0m\u001b[0;34m\u001b[0m\u001b[0m\n\u001b[0;32m--> 342\u001b[0;31m     \u001b[0;32mreturn\u001b[0m \u001b[0mdict\u001b[0m\u001b[0;34m(\u001b[0m\u001b[0m_single_shortest_path\u001b[0m\u001b[0;34m(\u001b[0m\u001b[0mG\u001b[0m\u001b[0;34m.\u001b[0m\u001b[0madj\u001b[0m\u001b[0;34m,\u001b[0m \u001b[0mnextlevel\u001b[0m\u001b[0;34m,\u001b[0m \u001b[0mpaths\u001b[0m\u001b[0;34m,\u001b[0m \u001b[0mcutoff\u001b[0m\u001b[0;34m,\u001b[0m \u001b[0mjoin\u001b[0m\u001b[0;34m)\u001b[0m\u001b[0;34m)\u001b[0m\u001b[0;34m\u001b[0m\u001b[0;34m\u001b[0m\u001b[0m\n\u001b[0m\u001b[1;32m    343\u001b[0m \u001b[0;34m\u001b[0m\u001b[0m\n",
            "\u001b[0;32m/usr/local/lib/python3.7/dist-packages/networkx/algorithms/shortest_paths/unweighted.py\u001b[0m in \u001b[0;36m_single_shortest_path\u001b[0;34m(adj, firstlevel, paths, cutoff, join)\u001b[0m\n\u001b[1;32m    369\u001b[0m         \u001b[0;32mfor\u001b[0m \u001b[0mv\u001b[0m \u001b[0;32min\u001b[0m \u001b[0mthislevel\u001b[0m\u001b[0;34m:\u001b[0m\u001b[0;34m\u001b[0m\u001b[0;34m\u001b[0m\u001b[0m\n\u001b[0;32m--> 370\u001b[0;31m             \u001b[0;32mfor\u001b[0m \u001b[0mw\u001b[0m \u001b[0;32min\u001b[0m \u001b[0madj\u001b[0m\u001b[0;34m[\u001b[0m\u001b[0mv\u001b[0m\u001b[0;34m]\u001b[0m\u001b[0;34m:\u001b[0m\u001b[0;34m\u001b[0m\u001b[0;34m\u001b[0m\u001b[0m\n\u001b[0m\u001b[1;32m    371\u001b[0m                 \u001b[0;32mif\u001b[0m \u001b[0mw\u001b[0m \u001b[0;32mnot\u001b[0m \u001b[0;32min\u001b[0m \u001b[0mpaths\u001b[0m\u001b[0;34m:\u001b[0m\u001b[0;34m\u001b[0m\u001b[0;34m\u001b[0m\u001b[0m\n",
            "\u001b[0;32m/usr/local/lib/python3.7/dist-packages/networkx/classes/coreviews.py\u001b[0m in \u001b[0;36m<genexpr>\u001b[0;34m(.0)\u001b[0m\n\u001b[1;32m    281\u001b[0m             \u001b[0;32mreturn\u001b[0m \u001b[0;34m(\u001b[0m\u001b[0mn\u001b[0m \u001b[0;32mfor\u001b[0m \u001b[0mn\u001b[0m \u001b[0;32min\u001b[0m \u001b[0mself\u001b[0m\u001b[0;34m.\u001b[0m\u001b[0mNODE_OK\u001b[0m\u001b[0;34m.\u001b[0m\u001b[0mnodes\u001b[0m \u001b[0;32mif\u001b[0m \u001b[0mn\u001b[0m \u001b[0;32min\u001b[0m \u001b[0mself\u001b[0m\u001b[0;34m.\u001b[0m\u001b[0m_atlas\u001b[0m\u001b[0;34m)\u001b[0m\u001b[0;34m\u001b[0m\u001b[0;34m\u001b[0m\u001b[0m\n\u001b[0;32m--> 282\u001b[0;31m         \u001b[0;32mreturn\u001b[0m \u001b[0;34m(\u001b[0m\u001b[0mn\u001b[0m \u001b[0;32mfor\u001b[0m \u001b[0mn\u001b[0m \u001b[0;32min\u001b[0m \u001b[0mself\u001b[0m\u001b[0;34m.\u001b[0m\u001b[0m_atlas\u001b[0m \u001b[0;32mif\u001b[0m \u001b[0mself\u001b[0m\u001b[0;34m.\u001b[0m\u001b[0mNODE_OK\u001b[0m\u001b[0;34m(\u001b[0m\u001b[0mn\u001b[0m\u001b[0;34m)\u001b[0m\u001b[0;34m)\u001b[0m\u001b[0;34m\u001b[0m\u001b[0;34m\u001b[0m\u001b[0m\n\u001b[0m\u001b[1;32m    283\u001b[0m \u001b[0;34m\u001b[0m\u001b[0m\n",
            "\u001b[0;32m/usr/local/lib/python3.7/dist-packages/networkx/classes/coreviews.py\u001b[0m in \u001b[0;36mnew_node_ok\u001b[0;34m(nbr)\u001b[0m\n\u001b[1;32m    336\u001b[0m             \u001b[0;32mdef\u001b[0m \u001b[0mnew_node_ok\u001b[0m\u001b[0;34m(\u001b[0m\u001b[0mnbr\u001b[0m\u001b[0;34m)\u001b[0m\u001b[0;34m:\u001b[0m\u001b[0;34m\u001b[0m\u001b[0;34m\u001b[0m\u001b[0m\n\u001b[0;32m--> 337\u001b[0;31m                 \u001b[0;32mreturn\u001b[0m \u001b[0mself\u001b[0m\u001b[0;34m.\u001b[0m\u001b[0mNODE_OK\u001b[0m\u001b[0;34m(\u001b[0m\u001b[0mnbr\u001b[0m\u001b[0;34m)\u001b[0m \u001b[0;32mand\u001b[0m \u001b[0mself\u001b[0m\u001b[0;34m.\u001b[0m\u001b[0mEDGE_OK\u001b[0m\u001b[0;34m(\u001b[0m\u001b[0mnode\u001b[0m\u001b[0;34m,\u001b[0m \u001b[0mnbr\u001b[0m\u001b[0;34m)\u001b[0m\u001b[0;34m\u001b[0m\u001b[0;34m\u001b[0m\u001b[0m\n\u001b[0m\u001b[1;32m    338\u001b[0m \u001b[0;34m\u001b[0m\u001b[0m\n",
            "\u001b[0;32m/usr/local/lib/python3.7/dist-packages/networkx/classes/filters.py\u001b[0m in \u001b[0;36m__call__\u001b[0;34m(self, node)\u001b[0m\n\u001b[1;32m     54\u001b[0m     \u001b[0;32mdef\u001b[0m \u001b[0m__call__\u001b[0m\u001b[0;34m(\u001b[0m\u001b[0mself\u001b[0m\u001b[0;34m,\u001b[0m \u001b[0mnode\u001b[0m\u001b[0;34m)\u001b[0m\u001b[0;34m:\u001b[0m\u001b[0;34m\u001b[0m\u001b[0;34m\u001b[0m\u001b[0m\n\u001b[0;32m---> 55\u001b[0;31m         \u001b[0;32mreturn\u001b[0m \u001b[0mnode\u001b[0m \u001b[0;32min\u001b[0m \u001b[0mself\u001b[0m\u001b[0;34m.\u001b[0m\u001b[0mnodes\u001b[0m\u001b[0;34m\u001b[0m\u001b[0;34m\u001b[0m\u001b[0m\n\u001b[0m\u001b[1;32m     56\u001b[0m \u001b[0;34m\u001b[0m\u001b[0m\n",
            "\u001b[0;31mKeyboardInterrupt\u001b[0m: ",
            "\nDuring handling of the above exception, another exception occurred:\n",
            "\u001b[0;31mKeyboardInterrupt\u001b[0m                         Traceback (most recent call last)",
            "\u001b[0;31mKeyboardInterrupt\u001b[0m: "
          ]
        }
      ]
    },
    {
      "cell_type": "code",
      "metadata": {
        "colab": {
          "base_uri": "https://localhost:8080/",
          "height": 231
        },
        "id": "7hONVhobdq5C",
        "outputId": "53223580-4a06-4ed3-cb91-c886b0187c87"
      },
      "source": [
        "# Testing\n",
        "i = 0\n",
        "for u, v, p in CNpredict:\n",
        "    print(f\"({u}, {v}) -> {p:.8f}\")\n",
        "    i += 1\n",
        "    if i >9: break"
      ],
      "execution_count": 39,
      "outputs": [
        {
          "output_type": "error",
          "ename": "NameError",
          "evalue": "ignored",
          "traceback": [
            "\u001b[0;31m---------------------------------------------------------------------------\u001b[0m",
            "\u001b[0;31mNameError\u001b[0m                                 Traceback (most recent call last)",
            "\u001b[0;32m<ipython-input-39-297b876be16e>\u001b[0m in \u001b[0;36m<module>\u001b[0;34m()\u001b[0m\n\u001b[1;32m      1\u001b[0m \u001b[0;31m# Testing\u001b[0m\u001b[0;34m\u001b[0m\u001b[0;34m\u001b[0m\u001b[0;34m\u001b[0m\u001b[0m\n\u001b[1;32m      2\u001b[0m \u001b[0mi\u001b[0m \u001b[0;34m=\u001b[0m \u001b[0;36m0\u001b[0m\u001b[0;34m\u001b[0m\u001b[0;34m\u001b[0m\u001b[0m\n\u001b[0;32m----> 3\u001b[0;31m \u001b[0;32mfor\u001b[0m \u001b[0mu\u001b[0m\u001b[0;34m,\u001b[0m \u001b[0mv\u001b[0m\u001b[0;34m,\u001b[0m \u001b[0mp\u001b[0m \u001b[0;32min\u001b[0m \u001b[0mCNpredict\u001b[0m\u001b[0;34m:\u001b[0m\u001b[0;34m\u001b[0m\u001b[0;34m\u001b[0m\u001b[0m\n\u001b[0m\u001b[1;32m      4\u001b[0m     \u001b[0mprint\u001b[0m\u001b[0;34m(\u001b[0m\u001b[0;34mf\"({u}, {v}) -> {p:.8f}\"\u001b[0m\u001b[0;34m)\u001b[0m\u001b[0;34m\u001b[0m\u001b[0;34m\u001b[0m\u001b[0m\n\u001b[1;32m      5\u001b[0m     \u001b[0mi\u001b[0m \u001b[0;34m+=\u001b[0m \u001b[0;36m1\u001b[0m\u001b[0;34m\u001b[0m\u001b[0;34m\u001b[0m\u001b[0m\n",
            "\u001b[0;31mNameError\u001b[0m: name 'CNpredict' is not defined"
          ]
        }
      ]
    },
    {
      "cell_type": "code",
      "metadata": {
        "colab": {
          "base_uri": "https://localhost:8080/"
        },
        "id": "H0_CWaRHcc3b",
        "outputId": "1bca0a6f-13e4-49d2-b261-5b4aba3eb77a"
      },
      "source": [
        "\n",
        "JCpredict = nx.jaccard_coefficient(dblp2005core)\n",
        "print(\"\\nJCpredict\")\n"
      ],
      "execution_count": 36,
      "outputs": [
        {
          "output_type": "stream",
          "name": "stdout",
          "text": [
            "\n",
            "JCpredict\n"
          ]
        }
      ]
    },
    {
      "cell_type": "code",
      "metadata": {
        "colab": {
          "base_uri": "https://localhost:8080/"
        },
        "id": "Q04c3qM5dnAe",
        "outputId": "e799fad2-47bd-4478-ce3f-c903582afd37"
      },
      "source": [
        "# Testing\n",
        "i = 0\n",
        "for u, v, p in JCpredict:\n",
        "    print(f\"({u}, {v}) -> {p:.8f}\")\n",
        "    i += 1\n",
        "    if i >9: break"
      ],
      "execution_count": 38,
      "outputs": [
        {
          "output_type": "stream",
          "name": "stdout",
          "text": [
            "(J. J. Garcia-Luna-Aceves, Kathrin Padberg) -> 0.00000000\n",
            "(J. J. Garcia-Luna-Aceves, Michele Lanza) -> 0.00000000\n",
            "(J. J. Garcia-Luna-Aceves, Jay G. Cooprider) -> 0.00000000\n",
            "(J. J. Garcia-Luna-Aceves, Ross L. Feller) -> 0.00000000\n",
            "(J. J. Garcia-Luna-Aceves, Akshay Java) -> 0.00000000\n",
            "(J. J. Garcia-Luna-Aceves, Uwe Kruger) -> 0.00000000\n",
            "(J. J. Garcia-Luna-Aceves, Ortal Arazi) -> 0.00000000\n",
            "(J. J. Garcia-Luna-Aceves, David McKoskey) -> 0.00000000\n",
            "(J. J. Garcia-Luna-Aceves, Kuiyu Chang) -> 0.00000000\n",
            "(J. J. Garcia-Luna-Aceves, Steve Wanamaker) -> 0.00000000\n"
          ]
        }
      ]
    },
    {
      "cell_type": "code",
      "metadata": {
        "colab": {
          "base_uri": "https://localhost:8080/"
        },
        "id": "T6nmqDP7ceEZ",
        "outputId": "671b6d7c-027b-4d7c-f3be-71b2e7bab137"
      },
      "source": [
        "\n",
        "PApredict= nx.preferential_attachment(dblp2005core)\n",
        "print(\"\\nPApredict\")\n"
      ],
      "execution_count": 30,
      "outputs": [
        {
          "output_type": "stream",
          "name": "stdout",
          "text": [
            "\n",
            "PApredict\n"
          ]
        }
      ]
    },
    {
      "cell_type": "code",
      "metadata": {
        "colab": {
          "base_uri": "https://localhost:8080/"
        },
        "id": "8RCW-alBdas9",
        "outputId": "36ab68c7-16b6-401c-d9a3-424f95813e2f"
      },
      "source": [
        "# Testing\n",
        "i = 0\n",
        "for u, v, p in PApredict:\n",
        "    print(f\"({u}, {v}) -> {p:.8f}\")\n",
        "    i += 1\n",
        "    if i >9: break"
      ],
      "execution_count": 31,
      "outputs": [
        {
          "output_type": "stream",
          "name": "stdout",
          "text": [
            "(Fabien Dekeyser, Itai Benjamini) -> 16.00000000\n",
            "(Fabien Dekeyser, Tsutomu Terada) -> 36.00000000\n",
            "(Fabien Dekeyser, Jinxin He) -> 28.00000000\n",
            "(Fabien Dekeyser, Alex C. Snoeren) -> 56.00000000\n",
            "(Fabien Dekeyser, Ricardo Beira) -> 28.00000000\n",
            "(Fabien Dekeyser, Mireia Ginestí-Rosell) -> 36.00000000\n",
            "(Fabien Dekeyser, Mary O'Grady) -> 12.00000000\n",
            "(Fabien Dekeyser, Sumio Sugano) -> 20.00000000\n",
            "(Fabien Dekeyser, David Talby) -> 12.00000000\n",
            "(Fabien Dekeyser, Madurai G. Sriram) -> 20.00000000\n"
          ]
        }
      ]
    },
    {
      "cell_type": "code",
      "metadata": {
        "colab": {
          "base_uri": "https://localhost:8080/"
        },
        "id": "a-RUMLI3cezn",
        "outputId": "f0fb9222-441d-4e3f-f9d9-ca6fd1130596"
      },
      "source": [
        "\n",
        "AApredict = nx.adamic_adar_index(dblp2005core)\n",
        "print(\"\\nAApredict\")\n"
      ],
      "execution_count": 23,
      "outputs": [
        {
          "output_type": "stream",
          "name": "stdout",
          "text": [
            "\n",
            "AApredict\n",
            "<generator object _apply_prediction.<locals>.<genexpr> at 0x7f74974e6550>\n"
          ]
        }
      ]
    },
    {
      "cell_type": "code",
      "metadata": {
        "colab": {
          "base_uri": "https://localhost:8080/"
        },
        "id": "Maafyo_SdIt1",
        "outputId": "59ddb0e5-39c7-4901-ba7b-71306b68a49c"
      },
      "source": [
        "# Testing\n",
        "i = 0\n",
        "for u, v, p in AApredict:\n",
        "    print(f\"({u}, {v}) -> {p:.8f}\")\n",
        "    i += 1\n",
        "    if i >9: break\n"
      ],
      "execution_count": 33,
      "outputs": [
        {
          "output_type": "stream",
          "name": "stdout",
          "text": [
            "(Fabien Dekeyser, Cong Zhao) -> 0.00000000\n",
            "(Fabien Dekeyser, Francisco Almeida) -> 0.00000000\n",
            "(Fabien Dekeyser, Nejdat Demirel) -> 0.00000000\n",
            "(Fabien Dekeyser, Gang Xu) -> 0.00000000\n",
            "(Fabien Dekeyser, Nicola L'Insalat) -> 0.00000000\n",
            "(Fabien Dekeyser, Tony Adriaansen) -> 0.00000000\n",
            "(Fabien Dekeyser, Christiaan Perneel) -> 0.00000000\n",
            "(Fabien Dekeyser, Emilia Bruno) -> 0.00000000\n",
            "(Fabien Dekeyser, Hong-Yi Yu) -> 0.00000000\n",
            "(Fabien Dekeyser, Daniel Leprince) -> 0.00000000\n"
          ]
        }
      ]
    },
    {
      "cell_type": "markdown",
      "metadata": {
        "id": "jMyORg38WLkg"
      },
      "source": [
        "vi. compute the precision at k evaluation metric for values of k={10, 20, 50, 100, |T|}, denoted\n",
        "as P@10, P@20, P@50, P@100, P@T for each method.<br><br>\n",
        "Briefly comment on the results and how they compare with each other.<br><br>\n"
      ]
    },
    {
      "cell_type": "code",
      "metadata": {
        "id": "C90jNkJ-fIDL"
      },
      "source": [
        ""
      ],
      "execution_count": null,
      "outputs": []
    },
    {
      "cell_type": "markdown",
      "metadata": {
        "id": "UFDbmBIxWUat"
      },
      "source": [
        "D. Community Detection in Graphs (10%)<br><br>\n",
        "Pick the co-authorship network of 2005 and apply the Girvan–Newman community detection method to derive\n",
        "communities. The Girvan-Newman method iteratively removes the edge with the highest edge betweenness to derive\n",
        "communities (hierarchical method that creates a dendrogram). Stop the iterative process once the current number of\n",
        "communities is greater than k=10. Report the size (number of nodes) of the 10 (or more) communities currently found\n",
        "in a descending order (first the size of the largest community and last the size of the smallest community).<br><br>\n",
        "Briefly comment on the results."
      ]
    },
    {
      "cell_type": "code",
      "metadata": {
        "id": "RsdqAbo1WUS5"
      },
      "source": [
        "import itertools\n",
        "from networkx.algorithms.community.centrality import girvan_newman\n",
        "\n",
        "k = 10\n",
        "comp = girvan_newman(dblp2005core)\n",
        "limited = itertools.takewhile(lambda c: len(c) <= k, comp)\n",
        "i=0\n",
        "\n",
        "#To get only the first k tuples of communities:\n",
        "\n",
        "for communities in itertools.islice(comp, k):\n",
        "    print(tuple(sorted(c) for c in communities))\n",
        "\n",
        "# To stop getting tuples of communities once the number of communities is greater than k:\n",
        "\n",
        "# for communities in limited:\n",
        "#   print(communities.size())\n",
        "#   #print(tuple(sorted(c) for c in communities))\n"
      ],
      "execution_count": null,
      "outputs": []
    },
    {
      "cell_type": "markdown",
      "metadata": {
        "id": "bezGldqPWULP"
      },
      "source": [
        ""
      ]
    }
  ]
}